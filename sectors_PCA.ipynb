{
  "nbformat": 4,
  "nbformat_minor": 0,
  "metadata": {
    "colab": {
      "provenance": [],
      "name": "sectors_PCA",
      "authorship_tag": "ABX9TyOYsUsbnrI4HVEBQtmpLTgf"
    },
    "kernelspec": {
      "name": "python3",
      "display_name": "Python 3"
    },
    "language_info": {
      "name": "python"
    }
  },
  "cells": [
    {
      "cell_type": "code",
      "source": [
        "!pip install yfinance"
      ],
      "metadata": {
        "colab": {
          "base_uri": "https://localhost:8080/"
        },
        "id": "0HqQQmilzPYm",
        "outputId": "13b5f549-9224-45d9-ffdf-27168df14a13"
      },
      "execution_count": 1,
      "outputs": [
        {
          "output_type": "stream",
          "name": "stdout",
          "text": [
            "Looking in indexes: https://pypi.org/simple, https://us-python.pkg.dev/colab-wheels/public/simple/\n",
            "Collecting yfinance\n",
            "  Downloading yfinance-0.2.12-py2.py3-none-any.whl (59 kB)\n",
            "\u001b[2K     \u001b[90m━━━━━━━━━━━━━━━━━━━━━━━━━━━━━━━━━━━━━━━━\u001b[0m \u001b[32m59.2/59.2 KB\u001b[0m \u001b[31m1.6 MB/s\u001b[0m eta \u001b[36m0:00:00\u001b[0m\n",
            "\u001b[?25hRequirement already satisfied: pandas>=1.3.0 in /usr/local/lib/python3.8/dist-packages (from yfinance) (1.3.5)\n",
            "Collecting requests>=2.26\n",
            "  Downloading requests-2.28.2-py3-none-any.whl (62 kB)\n",
            "\u001b[2K     \u001b[90m━━━━━━━━━━━━━━━━━━━━━━━━━━━━━━━━━━━━━━━━\u001b[0m \u001b[32m62.8/62.8 KB\u001b[0m \u001b[31m3.1 MB/s\u001b[0m eta \u001b[36m0:00:00\u001b[0m\n",
            "\u001b[?25hRequirement already satisfied: multitasking>=0.0.7 in /usr/local/lib/python3.8/dist-packages (from yfinance) (0.0.11)\n",
            "Requirement already satisfied: numpy>=1.16.5 in /usr/local/lib/python3.8/dist-packages (from yfinance) (1.22.4)\n",
            "Requirement already satisfied: appdirs>=1.4.4 in /usr/local/lib/python3.8/dist-packages (from yfinance) (1.4.4)\n",
            "Collecting beautifulsoup4>=4.11.1\n",
            "  Downloading beautifulsoup4-4.11.2-py3-none-any.whl (129 kB)\n",
            "\u001b[2K     \u001b[90m━━━━━━━━━━━━━━━━━━━━━━━━━━━━━━━━━━━━━━━\u001b[0m \u001b[32m129.4/129.4 KB\u001b[0m \u001b[31m6.4 MB/s\u001b[0m eta \u001b[36m0:00:00\u001b[0m\n",
            "\u001b[?25hRequirement already satisfied: lxml>=4.9.1 in /usr/local/lib/python3.8/dist-packages (from yfinance) (4.9.2)\n",
            "Collecting frozendict>=2.3.4\n",
            "  Downloading frozendict-2.3.5-cp38-cp38-manylinux_2_17_x86_64.manylinux2014_x86_64.whl (111 kB)\n",
            "\u001b[2K     \u001b[90m━━━━━━━━━━━━━━━━━━━━━━━━━━━━━━━━━━━━━━━\u001b[0m \u001b[32m111.2/111.2 KB\u001b[0m \u001b[31m4.8 MB/s\u001b[0m eta \u001b[36m0:00:00\u001b[0m\n",
            "\u001b[?25hCollecting cryptography>=3.3.2\n",
            "  Downloading cryptography-39.0.1-cp36-abi3-manylinux_2_28_x86_64.whl (4.2 MB)\n",
            "\u001b[2K     \u001b[90m━━━━━━━━━━━━━━━━━━━━━━━━━━━━━━━━━━━━━━━━\u001b[0m \u001b[32m4.2/4.2 MB\u001b[0m \u001b[31m22.6 MB/s\u001b[0m eta \u001b[36m0:00:00\u001b[0m\n",
            "\u001b[?25hCollecting html5lib>=1.1\n",
            "  Downloading html5lib-1.1-py2.py3-none-any.whl (112 kB)\n",
            "\u001b[2K     \u001b[90m━━━━━━━━━━━━━━━━━━━━━━━━━━━━━━━━━━━━━━━\u001b[0m \u001b[32m112.2/112.2 KB\u001b[0m \u001b[31m8.9 MB/s\u001b[0m eta \u001b[36m0:00:00\u001b[0m\n",
            "\u001b[?25hRequirement already satisfied: pytz>=2022.5 in /usr/local/lib/python3.8/dist-packages (from yfinance) (2022.7.1)\n",
            "Collecting soupsieve>1.2\n",
            "  Downloading soupsieve-2.4-py3-none-any.whl (37 kB)\n",
            "Requirement already satisfied: cffi>=1.12 in /usr/local/lib/python3.8/dist-packages (from cryptography>=3.3.2->yfinance) (1.15.1)\n",
            "Requirement already satisfied: six>=1.9 in /usr/local/lib/python3.8/dist-packages (from html5lib>=1.1->yfinance) (1.15.0)\n",
            "Requirement already satisfied: webencodings in /usr/local/lib/python3.8/dist-packages (from html5lib>=1.1->yfinance) (0.5.1)\n",
            "Requirement already satisfied: python-dateutil>=2.7.3 in /usr/local/lib/python3.8/dist-packages (from pandas>=1.3.0->yfinance) (2.8.2)\n",
            "Requirement already satisfied: certifi>=2017.4.17 in /usr/local/lib/python3.8/dist-packages (from requests>=2.26->yfinance) (2022.12.7)\n",
            "Requirement already satisfied: idna<4,>=2.5 in /usr/local/lib/python3.8/dist-packages (from requests>=2.26->yfinance) (2.10)\n",
            "Requirement already satisfied: urllib3<1.27,>=1.21.1 in /usr/local/lib/python3.8/dist-packages (from requests>=2.26->yfinance) (1.24.3)\n",
            "Requirement already satisfied: charset-normalizer<4,>=2 in /usr/local/lib/python3.8/dist-packages (from requests>=2.26->yfinance) (3.0.1)\n",
            "Requirement already satisfied: pycparser in /usr/local/lib/python3.8/dist-packages (from cffi>=1.12->cryptography>=3.3.2->yfinance) (2.21)\n",
            "Installing collected packages: soupsieve, requests, html5lib, frozendict, cryptography, beautifulsoup4, yfinance\n",
            "  Attempting uninstall: requests\n",
            "    Found existing installation: requests 2.25.1\n",
            "    Uninstalling requests-2.25.1:\n",
            "      Successfully uninstalled requests-2.25.1\n",
            "  Attempting uninstall: html5lib\n",
            "    Found existing installation: html5lib 1.0.1\n",
            "    Uninstalling html5lib-1.0.1:\n",
            "      Successfully uninstalled html5lib-1.0.1\n",
            "  Attempting uninstall: beautifulsoup4\n",
            "    Found existing installation: beautifulsoup4 4.6.3\n",
            "    Uninstalling beautifulsoup4-4.6.3:\n",
            "      Successfully uninstalled beautifulsoup4-4.6.3\n",
            "Successfully installed beautifulsoup4-4.11.2 cryptography-39.0.1 frozendict-2.3.5 html5lib-1.1 requests-2.28.2 soupsieve-2.4 yfinance-0.2.12\n"
          ]
        }
      ]
    },
    {
      "cell_type": "code",
      "source": [
        "import yfinance as yf\n",
        "from pandas_datareader import data as pdr\n",
        "import numpy as np\n",
        "import pandas as pd\n",
        "import matplotlib.pyplot as plt\n",
        "\n",
        "\n",
        "yf.pdr_override()"
      ],
      "metadata": {
        "id": "hT1xoKGEzSz3"
      },
      "execution_count": 2,
      "outputs": []
    },
    {
      "cell_type": "code",
      "source": [
        "\n",
        "sectors =[\"consumer defensive\",\"consumer goods\",\"financials\",\"healthcare\",\"industrials\",\"basic materials\",\"telecommunication\",\"real estate\"] #Create labels for dataframes\n",
        "consumer_defensive=[\"SZU.DE\",\"B4B3.DE\"]\n",
        "consumer_goods=[\"BOSS.DE\",\"HLE.DE\",\"PUM.DE\",\"ZAL.DE\",\"SHA.DE\",\"CEC.DE\"] \n",
        "financials=[\"TLX.DE\",\"HNR1.DE\",\"ARL.DE\",\"PBB.DE\"]\n",
        "healthcare=[\"FIE.DE\",\"EVT.DE\",\"GXI.DE\"] \n",
        "industrials=[\"MTX.DE\",\"NDA.DE\",\"RHM.DE\",\"DUE.DE\",\"FRA.DE\",\"NOEJ.DE\",\"KGX.DE\",\"JUN3.DE\",\"G1A.DE\",\"AIR.DE\",\"HOT.DE\",\"LEO.DE\",\"KRN.DE\"] \n",
        "basic_materials=[\"WCH.DE\",\"BNR.DE\",\"LXS.DE\",\"EVK.DE\",\"SDF.DE\",\"FPE3.DE\",\"SZG.DE\",\"SY1.DE\",\"1COV.DE\"] #\n",
        "telecommunication=[\"SAX.DE\",\"RRTL.DE\"] \n",
        "real_estate=[\"TEG.DE\",\"DEQ.DE\",\"G24.DE\",\"DWNI.DE\",\"LEG.DE\",\"GYC.DE\"]\n"
      ],
      "metadata": {
        "id": "oz4Ta236NbVU"
      },
      "execution_count": 3,
      "outputs": []
    },
    {
      "cell_type": "code",
      "source": [
        "#yy-mm-dd\n",
        "start_test_quarter='2017-09-19'\n",
        "end_test_quarter='2017-12-19'\n",
        "start_test_semester='2017-09-19'\n",
        "end_test_semester='2018-03-19'\n",
        "start_test='2017-09-19' \n",
        "end_test='2018-09-19'"
      ],
      "metadata": {
        "id": "tpmsdQZopJtw"
      },
      "execution_count": 4,
      "outputs": []
    },
    {
      "cell_type": "code",
      "source": [
        "start_date='2010-09-18'\n",
        "end_date='2017-09-18'\n"
      ],
      "metadata": {
        "id": "_lS3a6L-ztxZ"
      },
      "execution_count": 5,
      "outputs": []
    },
    {
      "cell_type": "code",
      "source": [
        "#Method for creating an array of sector returns, accounting for stocks not being present\n",
        "def create_sector_returns(sector):\n",
        "  data=pdr.get_data_yahoo(sector,start_date, end_date, progress=False )['Adj Close'] \n",
        "  ret=np.log(data / data.shift(1))[1:] \n",
        "  \n",
        "  month_returns_array= pd.DataFrame(ret) \n",
        "  mra= month_returns_array.fillna(0)\n",
        "  sector_ret=[] \n",
        "  for x in range(len(mra)):\n",
        "    returns_data = len(mra.iloc[x,:].dropna())  #use the dropna, then calculate how many columns are left for every row. Do this so that the 0's don't pull down the average by dividing by the length of the total stocks, only dividing by those with non 0 values\n",
        "    if returns_data == 0: #avoid dividing by 0\n",
        "      returns_data = 1\n",
        "    sector_ret.append(np.sum(mra.iloc[x,:])/returns_data)\n",
        "  sec_ret=np.array(sector_ret) \n",
        "  return sec_ret"
      ],
      "metadata": {
        "id": "jaQV1cdguQ2N"
      },
      "execution_count": 6,
      "outputs": []
    },
    {
      "cell_type": "code",
      "source": [
        "#Create an array with the sector returns of a given day in the same row for all sectors\n",
        "all_sectors_ret= np.column_stack((create_sector_returns(consumer_defensive),create_sector_returns(consumer_goods),create_sector_returns(financials),create_sector_returns(healthcare),create_sector_returns(industrials),create_sector_returns(basic_materials),create_sector_returns(telecommunication),create_sector_returns(real_estate)))\n"
      ],
      "metadata": {
        "id": "Ou9K8mh5Wj5x"
      },
      "execution_count": 7,
      "outputs": []
    },
    {
      "cell_type": "code",
      "source": [
        "ret_df=pd.DataFrame(all_sectors_ret, columns=sectors)\n",
        "cov=np.cov(all_sectors_ret.T)\n",
        "corr=ret_df.corr()\n",
        "cov1=ret_df.cov()\n",
        "corr1=np.corrcoef(all_sectors_ret.T)\n",
        "corr_df=pd.DataFrame(corr1,index=sectors,columns=sectors)\n",
        "corr_df"
      ],
      "metadata": {
        "id": "zYNHjDL8fGKk",
        "outputId": "a2ef4cc9-f64a-408a-8d56-bb4cae2e442d",
        "colab": {
          "base_uri": "https://localhost:8080/",
          "height": 300
        }
      },
      "execution_count": 8,
      "outputs": [
        {
          "output_type": "execute_result",
          "data": {
            "text/plain": [
              "                    consumer defensive  consumer goods  financials  \\\n",
              "consumer defensive            1.000000        0.274802    0.239919   \n",
              "consumer goods                0.274802        1.000000    0.648307   \n",
              "financials                    0.239919        0.648307    1.000000   \n",
              "healthcare                    0.251089        0.547640    0.559947   \n",
              "industrials                   0.285394        0.711862    0.763219   \n",
              "basic materials               0.264211        0.700751    0.723593   \n",
              "telecommunication             0.148726        0.407580    0.396616   \n",
              "real estate                   0.241637        0.546966    0.513022   \n",
              "\n",
              "                    healthcare  industrials  basic materials  \\\n",
              "consumer defensive    0.251089     0.285394         0.264211   \n",
              "consumer goods        0.547640     0.711862         0.700751   \n",
              "financials            0.559947     0.763219         0.723593   \n",
              "healthcare            1.000000     0.662611         0.622946   \n",
              "industrials           0.662611     1.000000         0.842152   \n",
              "basic materials       0.622946     0.842152         1.000000   \n",
              "telecommunication     0.333091     0.430880         0.396595   \n",
              "real estate           0.499020     0.579701         0.546024   \n",
              "\n",
              "                    telecommunication  real estate  \n",
              "consumer defensive           0.148726     0.241637  \n",
              "consumer goods               0.407580     0.546966  \n",
              "financials                   0.396616     0.513022  \n",
              "healthcare                   0.333091     0.499020  \n",
              "industrials                  0.430880     0.579701  \n",
              "basic materials              0.396595     0.546024  \n",
              "telecommunication            1.000000     0.380720  \n",
              "real estate                  0.380720     1.000000  "
            ],
            "text/html": [
              "\n",
              "  <div id=\"df-792c2cae-13fa-4020-a034-23d174a1b1da\">\n",
              "    <div class=\"colab-df-container\">\n",
              "      <div>\n",
              "<style scoped>\n",
              "    .dataframe tbody tr th:only-of-type {\n",
              "        vertical-align: middle;\n",
              "    }\n",
              "\n",
              "    .dataframe tbody tr th {\n",
              "        vertical-align: top;\n",
              "    }\n",
              "\n",
              "    .dataframe thead th {\n",
              "        text-align: right;\n",
              "    }\n",
              "</style>\n",
              "<table border=\"1\" class=\"dataframe\">\n",
              "  <thead>\n",
              "    <tr style=\"text-align: right;\">\n",
              "      <th></th>\n",
              "      <th>consumer defensive</th>\n",
              "      <th>consumer goods</th>\n",
              "      <th>financials</th>\n",
              "      <th>healthcare</th>\n",
              "      <th>industrials</th>\n",
              "      <th>basic materials</th>\n",
              "      <th>telecommunication</th>\n",
              "      <th>real estate</th>\n",
              "    </tr>\n",
              "  </thead>\n",
              "  <tbody>\n",
              "    <tr>\n",
              "      <th>consumer defensive</th>\n",
              "      <td>1.000000</td>\n",
              "      <td>0.274802</td>\n",
              "      <td>0.239919</td>\n",
              "      <td>0.251089</td>\n",
              "      <td>0.285394</td>\n",
              "      <td>0.264211</td>\n",
              "      <td>0.148726</td>\n",
              "      <td>0.241637</td>\n",
              "    </tr>\n",
              "    <tr>\n",
              "      <th>consumer goods</th>\n",
              "      <td>0.274802</td>\n",
              "      <td>1.000000</td>\n",
              "      <td>0.648307</td>\n",
              "      <td>0.547640</td>\n",
              "      <td>0.711862</td>\n",
              "      <td>0.700751</td>\n",
              "      <td>0.407580</td>\n",
              "      <td>0.546966</td>\n",
              "    </tr>\n",
              "    <tr>\n",
              "      <th>financials</th>\n",
              "      <td>0.239919</td>\n",
              "      <td>0.648307</td>\n",
              "      <td>1.000000</td>\n",
              "      <td>0.559947</td>\n",
              "      <td>0.763219</td>\n",
              "      <td>0.723593</td>\n",
              "      <td>0.396616</td>\n",
              "      <td>0.513022</td>\n",
              "    </tr>\n",
              "    <tr>\n",
              "      <th>healthcare</th>\n",
              "      <td>0.251089</td>\n",
              "      <td>0.547640</td>\n",
              "      <td>0.559947</td>\n",
              "      <td>1.000000</td>\n",
              "      <td>0.662611</td>\n",
              "      <td>0.622946</td>\n",
              "      <td>0.333091</td>\n",
              "      <td>0.499020</td>\n",
              "    </tr>\n",
              "    <tr>\n",
              "      <th>industrials</th>\n",
              "      <td>0.285394</td>\n",
              "      <td>0.711862</td>\n",
              "      <td>0.763219</td>\n",
              "      <td>0.662611</td>\n",
              "      <td>1.000000</td>\n",
              "      <td>0.842152</td>\n",
              "      <td>0.430880</td>\n",
              "      <td>0.579701</td>\n",
              "    </tr>\n",
              "    <tr>\n",
              "      <th>basic materials</th>\n",
              "      <td>0.264211</td>\n",
              "      <td>0.700751</td>\n",
              "      <td>0.723593</td>\n",
              "      <td>0.622946</td>\n",
              "      <td>0.842152</td>\n",
              "      <td>1.000000</td>\n",
              "      <td>0.396595</td>\n",
              "      <td>0.546024</td>\n",
              "    </tr>\n",
              "    <tr>\n",
              "      <th>telecommunication</th>\n",
              "      <td>0.148726</td>\n",
              "      <td>0.407580</td>\n",
              "      <td>0.396616</td>\n",
              "      <td>0.333091</td>\n",
              "      <td>0.430880</td>\n",
              "      <td>0.396595</td>\n",
              "      <td>1.000000</td>\n",
              "      <td>0.380720</td>\n",
              "    </tr>\n",
              "    <tr>\n",
              "      <th>real estate</th>\n",
              "      <td>0.241637</td>\n",
              "      <td>0.546966</td>\n",
              "      <td>0.513022</td>\n",
              "      <td>0.499020</td>\n",
              "      <td>0.579701</td>\n",
              "      <td>0.546024</td>\n",
              "      <td>0.380720</td>\n",
              "      <td>1.000000</td>\n",
              "    </tr>\n",
              "  </tbody>\n",
              "</table>\n",
              "</div>\n",
              "      <button class=\"colab-df-convert\" onclick=\"convertToInteractive('df-792c2cae-13fa-4020-a034-23d174a1b1da')\"\n",
              "              title=\"Convert this dataframe to an interactive table.\"\n",
              "              style=\"display:none;\">\n",
              "        \n",
              "  <svg xmlns=\"http://www.w3.org/2000/svg\" height=\"24px\"viewBox=\"0 0 24 24\"\n",
              "       width=\"24px\">\n",
              "    <path d=\"M0 0h24v24H0V0z\" fill=\"none\"/>\n",
              "    <path d=\"M18.56 5.44l.94 2.06.94-2.06 2.06-.94-2.06-.94-.94-2.06-.94 2.06-2.06.94zm-11 1L8.5 8.5l.94-2.06 2.06-.94-2.06-.94L8.5 2.5l-.94 2.06-2.06.94zm10 10l.94 2.06.94-2.06 2.06-.94-2.06-.94-.94-2.06-.94 2.06-2.06.94z\"/><path d=\"M17.41 7.96l-1.37-1.37c-.4-.4-.92-.59-1.43-.59-.52 0-1.04.2-1.43.59L10.3 9.45l-7.72 7.72c-.78.78-.78 2.05 0 2.83L4 21.41c.39.39.9.59 1.41.59.51 0 1.02-.2 1.41-.59l7.78-7.78 2.81-2.81c.8-.78.8-2.07 0-2.86zM5.41 20L4 18.59l7.72-7.72 1.47 1.35L5.41 20z\"/>\n",
              "  </svg>\n",
              "      </button>\n",
              "      \n",
              "  <style>\n",
              "    .colab-df-container {\n",
              "      display:flex;\n",
              "      flex-wrap:wrap;\n",
              "      gap: 12px;\n",
              "    }\n",
              "\n",
              "    .colab-df-convert {\n",
              "      background-color: #E8F0FE;\n",
              "      border: none;\n",
              "      border-radius: 50%;\n",
              "      cursor: pointer;\n",
              "      display: none;\n",
              "      fill: #1967D2;\n",
              "      height: 32px;\n",
              "      padding: 0 0 0 0;\n",
              "      width: 32px;\n",
              "    }\n",
              "\n",
              "    .colab-df-convert:hover {\n",
              "      background-color: #E2EBFA;\n",
              "      box-shadow: 0px 1px 2px rgba(60, 64, 67, 0.3), 0px 1px 3px 1px rgba(60, 64, 67, 0.15);\n",
              "      fill: #174EA6;\n",
              "    }\n",
              "\n",
              "    [theme=dark] .colab-df-convert {\n",
              "      background-color: #3B4455;\n",
              "      fill: #D2E3FC;\n",
              "    }\n",
              "\n",
              "    [theme=dark] .colab-df-convert:hover {\n",
              "      background-color: #434B5C;\n",
              "      box-shadow: 0px 1px 3px 1px rgba(0, 0, 0, 0.15);\n",
              "      filter: drop-shadow(0px 1px 2px rgba(0, 0, 0, 0.3));\n",
              "      fill: #FFFFFF;\n",
              "    }\n",
              "  </style>\n",
              "\n",
              "      <script>\n",
              "        const buttonEl =\n",
              "          document.querySelector('#df-792c2cae-13fa-4020-a034-23d174a1b1da button.colab-df-convert');\n",
              "        buttonEl.style.display =\n",
              "          google.colab.kernel.accessAllowed ? 'block' : 'none';\n",
              "\n",
              "        async function convertToInteractive(key) {\n",
              "          const element = document.querySelector('#df-792c2cae-13fa-4020-a034-23d174a1b1da');\n",
              "          const dataTable =\n",
              "            await google.colab.kernel.invokeFunction('convertToInteractive',\n",
              "                                                     [key], {});\n",
              "          if (!dataTable) return;\n",
              "\n",
              "          const docLinkHtml = 'Like what you see? Visit the ' +\n",
              "            '<a target=\"_blank\" href=https://colab.research.google.com/notebooks/data_table.ipynb>data table notebook</a>'\n",
              "            + ' to learn more about interactive tables.';\n",
              "          element.innerHTML = '';\n",
              "          dataTable['output_type'] = 'display_data';\n",
              "          await google.colab.output.renderOutput(dataTable, element);\n",
              "          const docLink = document.createElement('div');\n",
              "          docLink.innerHTML = docLinkHtml;\n",
              "          element.appendChild(docLink);\n",
              "        }\n",
              "      </script>\n",
              "    </div>\n",
              "  </div>\n",
              "  "
            ]
          },
          "metadata": {},
          "execution_count": 8
        }
      ]
    },
    {
      "cell_type": "code",
      "source": [
        "#https://scikit-learn.org/stable/modules/generated/sklearn.decomposition.PCA.html\n",
        "from sklearn.decomposition import PCA\n",
        "\n",
        "\n",
        "\n",
        "# Perform PCA\n",
        "pca = PCA(n_components=5)\n",
        "pca_fit=pca.fit(ret_df)\n",
        "returns_pca = pca.fit_transform(ret_df)\n",
        "pcs=[\"Principal Component 1\",\"Principal Component 2\",\"Principal Component 3\",\"Principal Component 4\",\"Principal Component 5\",\"Principal Component 6\",\"Principal Component 7\",\"Principal Component 8\"] #Labeled for Dataframes\n",
        "\n",
        "nr_comps=pca_fit.n_components_ #set it so that the code can be run for different nr of PC\n",
        "# Extract the first n principal components\n",
        "principal_components = pca.components_\n",
        "\n",
        "# Project the returns data onto the first n principal components, in this case 5\n",
        "returns_projected = np.dot(ret_df, principal_components.T)\n",
        "cov_projected=np.cov(returns_projected.T)\n",
        "\n",
        "#Create a dataframe for the projected returns\n",
        "ret_proj_df=pd.DataFrame(returns_projected,columns=pcs[:nr_comps])\n",
        "corr_proj=ret_proj_df.corr()"
      ],
      "metadata": {
        "id": "xQ_RXu3yKR-L"
      },
      "execution_count": 98,
      "outputs": []
    },
    {
      "cell_type": "code",
      "source": [
        "corr_proj"
      ],
      "metadata": {
        "id": "LdpVAfr9Y6HT",
        "outputId": "8fc6d16f-660b-43c3-e0af-277cc93e5036",
        "colab": {
          "base_uri": "https://localhost:8080/",
          "height": 206
        }
      },
      "execution_count": 99,
      "outputs": [
        {
          "output_type": "execute_result",
          "data": {
            "text/plain": [
              "                       Principal Component 1  Principal Component 2  \\\n",
              "Principal Component 1           1.000000e+00          -2.351964e-16   \n",
              "Principal Component 2          -2.351964e-16           1.000000e+00   \n",
              "Principal Component 3          -4.600853e-16          -1.849520e-16   \n",
              "Principal Component 4          -5.646526e-17           1.692942e-16   \n",
              "Principal Component 5           2.139600e-16          -1.093675e-15   \n",
              "\n",
              "                       Principal Component 3  Principal Component 4  \\\n",
              "Principal Component 1          -4.600853e-16          -5.646526e-17   \n",
              "Principal Component 2          -1.849520e-16           1.692942e-16   \n",
              "Principal Component 3           1.000000e+00           1.139974e-16   \n",
              "Principal Component 4           1.139974e-16           1.000000e+00   \n",
              "Principal Component 5          -3.893179e-16           5.193742e-16   \n",
              "\n",
              "                       Principal Component 5  \n",
              "Principal Component 1           2.139600e-16  \n",
              "Principal Component 2          -1.093675e-15  \n",
              "Principal Component 3          -3.893179e-16  \n",
              "Principal Component 4           5.193742e-16  \n",
              "Principal Component 5           1.000000e+00  "
            ],
            "text/html": [
              "\n",
              "  <div id=\"df-931ff9cb-f4ca-4cef-bebe-d4808c083a6a\">\n",
              "    <div class=\"colab-df-container\">\n",
              "      <div>\n",
              "<style scoped>\n",
              "    .dataframe tbody tr th:only-of-type {\n",
              "        vertical-align: middle;\n",
              "    }\n",
              "\n",
              "    .dataframe tbody tr th {\n",
              "        vertical-align: top;\n",
              "    }\n",
              "\n",
              "    .dataframe thead th {\n",
              "        text-align: right;\n",
              "    }\n",
              "</style>\n",
              "<table border=\"1\" class=\"dataframe\">\n",
              "  <thead>\n",
              "    <tr style=\"text-align: right;\">\n",
              "      <th></th>\n",
              "      <th>Principal Component 1</th>\n",
              "      <th>Principal Component 2</th>\n",
              "      <th>Principal Component 3</th>\n",
              "      <th>Principal Component 4</th>\n",
              "      <th>Principal Component 5</th>\n",
              "    </tr>\n",
              "  </thead>\n",
              "  <tbody>\n",
              "    <tr>\n",
              "      <th>Principal Component 1</th>\n",
              "      <td>1.000000e+00</td>\n",
              "      <td>-2.351964e-16</td>\n",
              "      <td>-4.600853e-16</td>\n",
              "      <td>-5.646526e-17</td>\n",
              "      <td>2.139600e-16</td>\n",
              "    </tr>\n",
              "    <tr>\n",
              "      <th>Principal Component 2</th>\n",
              "      <td>-2.351964e-16</td>\n",
              "      <td>1.000000e+00</td>\n",
              "      <td>-1.849520e-16</td>\n",
              "      <td>1.692942e-16</td>\n",
              "      <td>-1.093675e-15</td>\n",
              "    </tr>\n",
              "    <tr>\n",
              "      <th>Principal Component 3</th>\n",
              "      <td>-4.600853e-16</td>\n",
              "      <td>-1.849520e-16</td>\n",
              "      <td>1.000000e+00</td>\n",
              "      <td>1.139974e-16</td>\n",
              "      <td>-3.893179e-16</td>\n",
              "    </tr>\n",
              "    <tr>\n",
              "      <th>Principal Component 4</th>\n",
              "      <td>-5.646526e-17</td>\n",
              "      <td>1.692942e-16</td>\n",
              "      <td>1.139974e-16</td>\n",
              "      <td>1.000000e+00</td>\n",
              "      <td>5.193742e-16</td>\n",
              "    </tr>\n",
              "    <tr>\n",
              "      <th>Principal Component 5</th>\n",
              "      <td>2.139600e-16</td>\n",
              "      <td>-1.093675e-15</td>\n",
              "      <td>-3.893179e-16</td>\n",
              "      <td>5.193742e-16</td>\n",
              "      <td>1.000000e+00</td>\n",
              "    </tr>\n",
              "  </tbody>\n",
              "</table>\n",
              "</div>\n",
              "      <button class=\"colab-df-convert\" onclick=\"convertToInteractive('df-931ff9cb-f4ca-4cef-bebe-d4808c083a6a')\"\n",
              "              title=\"Convert this dataframe to an interactive table.\"\n",
              "              style=\"display:none;\">\n",
              "        \n",
              "  <svg xmlns=\"http://www.w3.org/2000/svg\" height=\"24px\"viewBox=\"0 0 24 24\"\n",
              "       width=\"24px\">\n",
              "    <path d=\"M0 0h24v24H0V0z\" fill=\"none\"/>\n",
              "    <path d=\"M18.56 5.44l.94 2.06.94-2.06 2.06-.94-2.06-.94-.94-2.06-.94 2.06-2.06.94zm-11 1L8.5 8.5l.94-2.06 2.06-.94-2.06-.94L8.5 2.5l-.94 2.06-2.06.94zm10 10l.94 2.06.94-2.06 2.06-.94-2.06-.94-.94-2.06-.94 2.06-2.06.94z\"/><path d=\"M17.41 7.96l-1.37-1.37c-.4-.4-.92-.59-1.43-.59-.52 0-1.04.2-1.43.59L10.3 9.45l-7.72 7.72c-.78.78-.78 2.05 0 2.83L4 21.41c.39.39.9.59 1.41.59.51 0 1.02-.2 1.41-.59l7.78-7.78 2.81-2.81c.8-.78.8-2.07 0-2.86zM5.41 20L4 18.59l7.72-7.72 1.47 1.35L5.41 20z\"/>\n",
              "  </svg>\n",
              "      </button>\n",
              "      \n",
              "  <style>\n",
              "    .colab-df-container {\n",
              "      display:flex;\n",
              "      flex-wrap:wrap;\n",
              "      gap: 12px;\n",
              "    }\n",
              "\n",
              "    .colab-df-convert {\n",
              "      background-color: #E8F0FE;\n",
              "      border: none;\n",
              "      border-radius: 50%;\n",
              "      cursor: pointer;\n",
              "      display: none;\n",
              "      fill: #1967D2;\n",
              "      height: 32px;\n",
              "      padding: 0 0 0 0;\n",
              "      width: 32px;\n",
              "    }\n",
              "\n",
              "    .colab-df-convert:hover {\n",
              "      background-color: #E2EBFA;\n",
              "      box-shadow: 0px 1px 2px rgba(60, 64, 67, 0.3), 0px 1px 3px 1px rgba(60, 64, 67, 0.15);\n",
              "      fill: #174EA6;\n",
              "    }\n",
              "\n",
              "    [theme=dark] .colab-df-convert {\n",
              "      background-color: #3B4455;\n",
              "      fill: #D2E3FC;\n",
              "    }\n",
              "\n",
              "    [theme=dark] .colab-df-convert:hover {\n",
              "      background-color: #434B5C;\n",
              "      box-shadow: 0px 1px 3px 1px rgba(0, 0, 0, 0.15);\n",
              "      filter: drop-shadow(0px 1px 2px rgba(0, 0, 0, 0.3));\n",
              "      fill: #FFFFFF;\n",
              "    }\n",
              "  </style>\n",
              "\n",
              "      <script>\n",
              "        const buttonEl =\n",
              "          document.querySelector('#df-931ff9cb-f4ca-4cef-bebe-d4808c083a6a button.colab-df-convert');\n",
              "        buttonEl.style.display =\n",
              "          google.colab.kernel.accessAllowed ? 'block' : 'none';\n",
              "\n",
              "        async function convertToInteractive(key) {\n",
              "          const element = document.querySelector('#df-931ff9cb-f4ca-4cef-bebe-d4808c083a6a');\n",
              "          const dataTable =\n",
              "            await google.colab.kernel.invokeFunction('convertToInteractive',\n",
              "                                                     [key], {});\n",
              "          if (!dataTable) return;\n",
              "\n",
              "          const docLinkHtml = 'Like what you see? Visit the ' +\n",
              "            '<a target=\"_blank\" href=https://colab.research.google.com/notebooks/data_table.ipynb>data table notebook</a>'\n",
              "            + ' to learn more about interactive tables.';\n",
              "          element.innerHTML = '';\n",
              "          dataTable['output_type'] = 'display_data';\n",
              "          await google.colab.output.renderOutput(dataTable, element);\n",
              "          const docLink = document.createElement('div');\n",
              "          docLink.innerHTML = docLinkHtml;\n",
              "          element.appendChild(docLink);\n",
              "        }\n",
              "      </script>\n",
              "    </div>\n",
              "  </div>\n",
              "  "
            ]
          },
          "metadata": {},
          "execution_count": 99
        }
      ]
    },
    {
      "cell_type": "code",
      "source": [
        "import itertools\n",
        "\n",
        "def portfolio_weights(num_assets, increment=0.05):\n",
        "    for weights in itertools.product(range(-int(1/increment)+1, int(1/increment)+1), repeat=num_assets):\n",
        "        if sum(weights) == int(1/increment):\n",
        "            yield [w * increment for w in weights]\n",
        "num_assets = nr_comps\n",
        "weights_list = []\n",
        "weight_generator = portfolio_weights(num_assets)\n",
        "\n",
        "for i, weights in enumerate(weight_generator): \n",
        "  \n",
        "    weights_list.append([round(w, 2) for w in weights]) # Round to 2 decimal points because incrememnts are 0,05. To avoid numbers such as 0.7000000001 being stored\n",
        "#Turn the list into an array\n",
        "weights_array = np.array(weights_list)"
      ],
      "metadata": {
        "id": "8eqrzJ50ZIxy"
      },
      "execution_count": 10,
      "outputs": []
    },
    {
      "cell_type": "code",
      "source": [
        "np.random.seed(42)\n",
        "\n",
        "ret_arr = np.zeros(len(weights_array))\n",
        "vol_arr = np.zeros(len(weights_array))\n",
        "sharpe_arr = np.zeros(len(weights_array))\n",
        "  \n",
        "all_weights = np.zeros((len(weights_array), len(sectors))) #replaced len(sectors) with nr_comps\n",
        "for x in range(len(weights_array)):\n",
        "         # Expected return\n",
        "    ret_arr[x] = np.sum( (ret_proj_df.mean() * weights_array[x] * 254)) \n",
        "     # Expected volatility\n",
        "    vol_arr[x] = np.sqrt(np.dot(weights_array[x], np.dot(cov_projected*254, weights_array[x])))\n",
        "    \n",
        "    # Sharpe Ratio\n",
        "    sharpe_arr[x] = ret_arr[x]/vol_arr[x]\n",
        "#Normally it is multiplied by 252 for the average amount of trading days in the american markets. The german markets are open for 254 days on average"
      ],
      "metadata": {
        "id": "WTx2ZeQf40Lt"
      },
      "execution_count": 12,
      "outputs": []
    },
    {
      "cell_type": "code",
      "source": [
        "sharpe_max= sharpe_arr.argmax()\n",
        "max_ret_sr= ret_arr[sharpe_max]\n",
        "max_vol_sr= vol_arr[sharpe_max]\n",
        "max_sharpe_sr= sharpe_arr[sharpe_max]\n",
        "\n",
        "minvol=vol_arr.argmin()\n",
        "minvol_ret_nr= ret_arr[minvol]\n",
        "minvol_vol_nr=vol_arr[minvol]\n",
        "minvol_sharpe=sharpe_arr[minvol]\n",
        "\n",
        "maxret=ret_arr.argmax()\n",
        "maxret_ret=ret_arr[maxret]\n",
        "maxret_vol=vol_arr[maxret]\n",
        "maxret_sharpe=sharpe_arr[maxret]\n",
        "\n",
        "\n",
        "minvol_weights= weights_array[minvol]\n",
        "maxsharpe_weights= weights_array[sharpe_max]\n",
        "maxret_weights= weights_array[maxret]\n",
        "\n"
      ],
      "metadata": {
        "id": "jbLNIABUQllo"
      },
      "execution_count": 13,
      "outputs": []
    },
    {
      "cell_type": "code",
      "source": [
        "minvol_df=pd.DataFrame([minvol_weights], columns=pcs[:nr_comps])\n",
        "maxret_df=pd.DataFrame([maxret_weights],columns=pcs[:nr_comps])\n",
        "maxsharpe_df=pd.DataFrame([maxsharpe_weights],columns=pcs[:nr_comps])"
      ],
      "metadata": {
        "id": "Xx7R0JUGLzqW"
      },
      "execution_count": 14,
      "outputs": []
    },
    {
      "cell_type": "code",
      "source": [
        "minvol_df = minvol_df.loc[:, (minvol_df != 0).any(axis=0)]\n",
        "maxsharpe_df = maxsharpe_df.loc[:, (maxsharpe_df != 0).any(axis=0)]\n",
        "maxret_df = maxret_df.loc[:, (maxret_df != 0).any(axis=0)]\n"
      ],
      "metadata": {
        "id": "0SD-JmrSsWGT"
      },
      "execution_count": 15,
      "outputs": []
    },
    {
      "cell_type": "code",
      "source": [
        "weights = principal_components[0] / sum(abs(principal_components[0]))\n",
        "\n",
        "portfolio_weights_minvol = np.dot(minvol_weights,principal_components)\n",
        "portfolio_weights_maxret = np.dot(maxret_weights,principal_components)\n",
        "portfolio_weights_maxsharpe = np.dot(maxsharpe_weights,principal_components)\n"
      ],
      "metadata": {
        "id": "LvmW85m3gmSY"
      },
      "execution_count": 16,
      "outputs": []
    },
    {
      "cell_type": "code",
      "source": [
        "plt.figure(figsize=(12,8))\n",
        "plt.scatter(vol_arr, ret_arr, c=sharpe_arr, cmap='viridis')\n",
        "plt.colorbar(label='Sharpe Ratio')\n",
        "plt.xlabel('Volatility')\n",
        "plt.ylabel('Expected Return')\n",
        "plt.scatter(max_vol_sr, max_ret_sr,c='red', s=50,) # red dot\n",
        "plt.scatter(minvol_vol_nr,minvol_ret_nr,c='red',s=50)\n",
        "plt.scatter(maxret_vol,maxret_ret,c='red',s=50)\n",
        "plt.show()"
      ],
      "metadata": {
        "colab": {
          "base_uri": "https://localhost:8080/",
          "height": 497
        },
        "id": "IQum8gUW5wH5",
        "outputId": "109c1e27-1781-4228-cc92-62fb37f99930"
      },
      "execution_count": 17,
      "outputs": [
        {
          "output_type": "display_data",
          "data": {
            "text/plain": [
              "<Figure size 864x576 with 2 Axes>"
            ],
            "image/png": "[encoded data removed]"
          },
          "metadata": {
            "needs_background": "light"
          }
        }
      ]
    },
    {
      "cell_type": "code",
      "source": [
        "loadings = principal_components[:nr_comps,:]\n",
        "pw_maxsharpe = np.dot(maxsharpe_weights, loadings)\n",
        "pw_maxret= np.dot(maxret_weights, loadings)\n",
        "pw_minvol=np.dot(minvol_weights, loadings)\n",
        "\n",
        "pw_maxret_df=pd.DataFrame(pw_maxret,index=sectors,columns=[\"weights\"])\n",
        "pw_maxsharpe_df=pd.DataFrame(pw_maxsharpe,index=sectors,columns=[\"weights\"])\n",
        "pw_minvol_df=pd.DataFrame(pw_minvol,index=sectors,columns=[\"weights\"])\n",
        "\n",
        "\n",
        "\n"
      ],
      "metadata": {
        "id": "X1CsoRwmk_bW"
      },
      "execution_count": 18,
      "outputs": []
    },
    {
      "cell_type": "code",
      "source": [
        "def create_sector_returns(sector):\n",
        "  data=pdr.get_data_yahoo(sector,start_test, end_test, progress=False )['Adj Close'] #.resample('M').ffill() \n",
        "  ret=np.log(data / data.shift(1))[1:] \n",
        "  \n",
        "  month_returns_array= pd.DataFrame(ret) \n",
        "  mra= month_returns_array.fillna(0)\n",
        "  sector_ret=[] \n",
        "  for x in range(len(mra)):\n",
        "    returns_data = len(mra.iloc[x,:].dropna())  #use the dropna, then calculate how many columns are left for every row. Do this so that the 0's don't pull down the average by dividing by the length of the total stocks, only dividing by those with non 0 values\n",
        "    if returns_data == 0: #avoid dividing by 0\n",
        "      returns_data = 1\n",
        "    sector_ret.append(np.sum(mra.iloc[x,:])/returns_data)\n",
        "  sec_ret=np.array(sector_ret) \n",
        "  return sec_ret"
      ],
      "metadata": {
        "id": "0A-unbqEpBJD"
      },
      "execution_count": 66,
      "outputs": []
    },
    {
      "cell_type": "code",
      "source": [
        "post_opt_sectors_ret= np.column_stack((create_sector_returns(consumer_defensive),create_sector_returns(consumer_goods),create_sector_returns(financials),create_sector_returns(healthcare),create_sector_returns(industrials),create_sector_returns(basic_materials),create_sector_returns(telecommunication),create_sector_returns(real_estate)))\n",
        "post_sectors_df=pd.DataFrame(post_opt_sectors_ret,columns=sectors)"
      ],
      "metadata": {
        "id": "JmATjxWj3SEY"
      },
      "execution_count": 67,
      "outputs": []
    },
    {
      "cell_type": "code",
      "source": [
        "#https://www.sea-stat.com/wp-content/uploads/2021/05/Yves-Hilpisch-Python-for-Finance_-Mastering-Data-Driven-Finance-Book-OReilly-2018.pdf\n",
        "pw_maxsharpe_norm= pw_maxsharpe/np.sum(pw_maxsharpe)\n",
        "pw_maxsharpe_norm_df=pd.DataFrame(pw_maxsharpe_norm,index=sectors,columns=[\"weights\"])\n",
        "pw_maxret_norm= pw_maxret/np.sum(pw_maxret)\n",
        "pw_maxret_norm_df=pd.DataFrame(pw_maxret_norm,index=sectors,columns=[\"weights\"])\n",
        "pw_minvol_norm= pw_minvol/np.sum(pw_minvol)\n",
        "pw_minvol_norm_df=pd.DataFrame(pw_minvol_norm,index=sectors,columns=[\"weights\"])\n"
      ],
      "metadata": {
        "id": "G7Yh2S7_hJts"
      },
      "execution_count": 68,
      "outputs": []
    },
    {
      "cell_type": "code",
      "source": [
        "back_tested_maxret=pw_maxret_norm*post_sectors_df.mean()*254\n",
        "back_tested_minvol=pw_minvol_norm*post_sectors_df.mean()*254\n",
        "back_tested_maxsharpe=pw_maxsharpe_norm*post_sectors_df.mean()*254\n"
      ],
      "metadata": {
        "id": "F7pJ2eBMr51S"
      },
      "execution_count": 69,
      "outputs": []
    },
    {
      "cell_type": "code",
      "source": [
        "#https://stackoverflow.com/questions/67012717/how-to-plot-a-line-in-zero-value-in-a-graphic-bar\n",
        "#https://www.python-graph-gallery.com/3-control-color-of-barplots\n",
        "\n",
        "plt.figure(figsize=(15,6))\n",
        "plt.bar(sectors, pw_minvol_norm*100,color=['#F7CAAC'])\n",
        "plt.ylabel('Weight on sector in %') \n",
        "plt.axhline(y=0,linewidth=1, color='k')\n",
        "plt.show()"
      ],
      "metadata": {
        "colab": {
          "base_uri": "https://localhost:8080/",
          "height": 374
        },
        "id": "aHkmxLwRYd9l",
        "outputId": "f762b0bc-2f90-45c1-a879-25f93026783b"
      },
      "execution_count": 70,
      "outputs": [
        {
          "output_type": "display_data",
          "data": {
            "text/plain": [
              "<Figure size 1080x432 with 1 Axes>"
            ],
            "image/png": "[encoded data removed]"
          },
          "metadata": {
            "needs_background": "light"
          }
        }
      ]
    },
    {
      "cell_type": "code",
      "source": [
        "plt.figure(figsize=(15,6))\n",
        "plt.bar(sectors, pw_maxret_norm*100,color=['#F7CAAC'])\n",
        "plt.ylabel('Weight on sector in %')\n",
        "plt.axhline(y=0,linewidth=1, color='k')\n",
        "plt.show()"
      ],
      "metadata": {
        "colab": {
          "base_uri": "https://localhost:8080/",
          "height": 374
        },
        "id": "vploB4MKYnst",
        "outputId": "b2dffd6f-3aec-4c43-ff93-fa809681fdda"
      },
      "execution_count": 71,
      "outputs": [
        {
          "output_type": "display_data",
          "data": {
            "text/plain": [
              "<Figure size 1080x432 with 1 Axes>"
            ],
            "image/png": "[encoded data removed]"
          },
          "metadata": {
            "needs_background": "light"
          }
        }
      ]
    },
    {
      "cell_type": "code",
      "source": [
        "plt.figure(figsize=(15,6))\n",
        "plt.bar(sectors, pw_maxsharpe_norm*100,color=['#F7CAAC'])\n",
        "plt.ylabel('Weight on sector in %')\n",
        "plt.axhline(y=0,linewidth=1, color='k')\n",
        "plt.show()"
      ],
      "metadata": {
        "colab": {
          "base_uri": "https://localhost:8080/",
          "height": 374
        },
        "id": "qMyMjlARYrs7",
        "outputId": "e0ad488a-f48f-4aca-8e36-f5a7c4d0d665"
      },
      "execution_count": 72,
      "outputs": [
        {
          "output_type": "display_data",
          "data": {
            "text/plain": [
              "<Figure size 1080x432 with 1 Axes>"
            ],
            "image/png": "[encoded data removed]"
          },
          "metadata": {
            "needs_background": "light"
          }
        }
      ]
    },
    {
      "cell_type": "code",
      "source": [
        "list_of_rets_annual=[]\n",
        "list_of_rets_annual.append(back_tested_minvol.sum()*100)\n",
        "list_of_rets_annual.append(back_tested_maxsharpe.sum()*100)\n",
        "list_of_rets_annual.append(back_tested_maxret.sum()*100)\n",
        "\n",
        "list_of_rets_annual"
      ],
      "metadata": {
        "colab": {
          "base_uri": "https://localhost:8080/"
        },
        "id": "zuAYz0bBr9or",
        "outputId": "ee32aaae-34de-4348-d9ae-baac110e9e4a"
      },
      "execution_count": 73,
      "outputs": [
        {
          "output_type": "execute_result",
          "data": {
            "text/plain": [
              "[-11.953054727908622, 10.129901579691236, 16.467975903695987]"
            ]
          },
          "metadata": {},
          "execution_count": 73
        }
      ]
    },
    {
      "cell_type": "code",
      "source": [
        "minvol_df"
      ],
      "metadata": {
        "colab": {
          "base_uri": "https://localhost:8080/",
          "height": 80
        },
        "id": "hbjpwTAhPQmV",
        "outputId": "2895ac5f-cbb6-4665-8ce1-15c935427c85"
      },
      "execution_count": 74,
      "outputs": [
        {
          "output_type": "execute_result",
          "data": {
            "text/plain": [
              "   Principal Component 1  Principal Component 2  Principal Component 3  \\\n",
              "0                   0.05                    0.1                    0.2   \n",
              "\n",
              "   Principal Component 4  Principal Component 5  \n",
              "0                    0.2                   0.45  "
            ],
            "text/html": [
              "\n",
              "  <div id=\"df-816b58ef-0a2d-4faa-855f-846cba68adcd\">\n",
              "    <div class=\"colab-df-container\">\n",
              "      <div>\n",
              "<style scoped>\n",
              "    .dataframe tbody tr th:only-of-type {\n",
              "        vertical-align: middle;\n",
              "    }\n",
              "\n",
              "    .dataframe tbody tr th {\n",
              "        vertical-align: top;\n",
              "    }\n",
              "\n",
              "    .dataframe thead th {\n",
              "        text-align: right;\n",
              "    }\n",
              "</style>\n",
              "<table border=\"1\" class=\"dataframe\">\n",
              "  <thead>\n",
              "    <tr style=\"text-align: right;\">\n",
              "      <th></th>\n",
              "      <th>Principal Component 1</th>\n",
              "      <th>Principal Component 2</th>\n",
              "      <th>Principal Component 3</th>\n",
              "      <th>Principal Component 4</th>\n",
              "      <th>Principal Component 5</th>\n",
              "    </tr>\n",
              "  </thead>\n",
              "  <tbody>\n",
              "    <tr>\n",
              "      <th>0</th>\n",
              "      <td>0.05</td>\n",
              "      <td>0.1</td>\n",
              "      <td>0.2</td>\n",
              "      <td>0.2</td>\n",
              "      <td>0.45</td>\n",
              "    </tr>\n",
              "  </tbody>\n",
              "</table>\n",
              "</div>\n",
              "      <button class=\"colab-df-convert\" onclick=\"convertToInteractive('df-816b58ef-0a2d-4faa-855f-846cba68adcd')\"\n",
              "              title=\"Convert this dataframe to an interactive table.\"\n",
              "              style=\"display:none;\">\n",
              "        \n",
              "  <svg xmlns=\"http://www.w3.org/2000/svg\" height=\"24px\"viewBox=\"0 0 24 24\"\n",
              "       width=\"24px\">\n",
              "    <path d=\"M0 0h24v24H0V0z\" fill=\"none\"/>\n",
              "    <path d=\"M18.56 5.44l.94 2.06.94-2.06 2.06-.94-2.06-.94-.94-2.06-.94 2.06-2.06.94zm-11 1L8.5 8.5l.94-2.06 2.06-.94-2.06-.94L8.5 2.5l-.94 2.06-2.06.94zm10 10l.94 2.06.94-2.06 2.06-.94-2.06-.94-.94-2.06-.94 2.06-2.06.94z\"/><path d=\"M17.41 7.96l-1.37-1.37c-.4-.4-.92-.59-1.43-.59-.52 0-1.04.2-1.43.59L10.3 9.45l-7.72 7.72c-.78.78-.78 2.05 0 2.83L4 21.41c.39.39.9.59 1.41.59.51 0 1.02-.2 1.41-.59l7.78-7.78 2.81-2.81c.8-.78.8-2.07 0-2.86zM5.41 20L4 18.59l7.72-7.72 1.47 1.35L5.41 20z\"/>\n",
              "  </svg>\n",
              "      </button>\n",
              "      \n",
              "  <style>\n",
              "    .colab-df-container {\n",
              "      display:flex;\n",
              "      flex-wrap:wrap;\n",
              "      gap: 12px;\n",
              "    }\n",
              "\n",
              "    .colab-df-convert {\n",
              "      background-color: #E8F0FE;\n",
              "      border: none;\n",
              "      border-radius: 50%;\n",
              "      cursor: pointer;\n",
              "      display: none;\n",
              "      fill: #1967D2;\n",
              "      height: 32px;\n",
              "      padding: 0 0 0 0;\n",
              "      width: 32px;\n",
              "    }\n",
              "\n",
              "    .colab-df-convert:hover {\n",
              "      background-color: #E2EBFA;\n",
              "      box-shadow: 0px 1px 2px rgba(60, 64, 67, 0.3), 0px 1px 3px 1px rgba(60, 64, 67, 0.15);\n",
              "      fill: #174EA6;\n",
              "    }\n",
              "\n",
              "    [theme=dark] .colab-df-convert {\n",
              "      background-color: #3B4455;\n",
              "      fill: #D2E3FC;\n",
              "    }\n",
              "\n",
              "    [theme=dark] .colab-df-convert:hover {\n",
              "      background-color: #434B5C;\n",
              "      box-shadow: 0px 1px 3px 1px rgba(0, 0, 0, 0.15);\n",
              "      filter: drop-shadow(0px 1px 2px rgba(0, 0, 0, 0.3));\n",
              "      fill: #FFFFFF;\n",
              "    }\n",
              "  </style>\n",
              "\n",
              "      <script>\n",
              "        const buttonEl =\n",
              "          document.querySelector('#df-816b58ef-0a2d-4faa-855f-846cba68adcd button.colab-df-convert');\n",
              "        buttonEl.style.display =\n",
              "          google.colab.kernel.accessAllowed ? 'block' : 'none';\n",
              "\n",
              "        async function convertToInteractive(key) {\n",
              "          const element = document.querySelector('#df-816b58ef-0a2d-4faa-855f-846cba68adcd');\n",
              "          const dataTable =\n",
              "            await google.colab.kernel.invokeFunction('convertToInteractive',\n",
              "                                                     [key], {});\n",
              "          if (!dataTable) return;\n",
              "\n",
              "          const docLinkHtml = 'Like what you see? Visit the ' +\n",
              "            '<a target=\"_blank\" href=https://colab.research.google.com/notebooks/data_table.ipynb>data table notebook</a>'\n",
              "            + ' to learn more about interactive tables.';\n",
              "          element.innerHTML = '';\n",
              "          dataTable['output_type'] = 'display_data';\n",
              "          await google.colab.output.renderOutput(dataTable, element);\n",
              "          const docLink = document.createElement('div');\n",
              "          docLink.innerHTML = docLinkHtml;\n",
              "          element.appendChild(docLink);\n",
              "        }\n",
              "      </script>\n",
              "    </div>\n",
              "  </div>\n",
              "  "
            ]
          },
          "metadata": {},
          "execution_count": 74
        }
      ]
    },
    {
      "cell_type": "code",
      "source": [
        "maxsharpe_df"
      ],
      "metadata": {
        "colab": {
          "base_uri": "https://localhost:8080/",
          "height": 80
        },
        "id": "xNlouuxJPUsu",
        "outputId": "50304150-0f97-485f-aa5c-b12a05494579"
      },
      "execution_count": 75,
      "outputs": [
        {
          "output_type": "execute_result",
          "data": {
            "text/plain": [
              "   Principal Component 1  Principal Component 2  Principal Component 3  \\\n",
              "0                   -0.6                   0.15                    0.4   \n",
              "\n",
              "   Principal Component 4  Principal Component 5  \n",
              "0                    1.0                   0.05  "
            ],
            "text/html": [
              "\n",
              "  <div id=\"df-272722be-687c-44f1-bf81-e039f64f905a\">\n",
              "    <div class=\"colab-df-container\">\n",
              "      <div>\n",
              "<style scoped>\n",
              "    .dataframe tbody tr th:only-of-type {\n",
              "        vertical-align: middle;\n",
              "    }\n",
              "\n",
              "    .dataframe tbody tr th {\n",
              "        vertical-align: top;\n",
              "    }\n",
              "\n",
              "    .dataframe thead th {\n",
              "        text-align: right;\n",
              "    }\n",
              "</style>\n",
              "<table border=\"1\" class=\"dataframe\">\n",
              "  <thead>\n",
              "    <tr style=\"text-align: right;\">\n",
              "      <th></th>\n",
              "      <th>Principal Component 1</th>\n",
              "      <th>Principal Component 2</th>\n",
              "      <th>Principal Component 3</th>\n",
              "      <th>Principal Component 4</th>\n",
              "      <th>Principal Component 5</th>\n",
              "    </tr>\n",
              "  </thead>\n",
              "  <tbody>\n",
              "    <tr>\n",
              "      <th>0</th>\n",
              "      <td>-0.6</td>\n",
              "      <td>0.15</td>\n",
              "      <td>0.4</td>\n",
              "      <td>1.0</td>\n",
              "      <td>0.05</td>\n",
              "    </tr>\n",
              "  </tbody>\n",
              "</table>\n",
              "</div>\n",
              "      <button class=\"colab-df-convert\" onclick=\"convertToInteractive('df-272722be-687c-44f1-bf81-e039f64f905a')\"\n",
              "              title=\"Convert this dataframe to an interactive table.\"\n",
              "              style=\"display:none;\">\n",
              "        \n",
              "  <svg xmlns=\"http://www.w3.org/2000/svg\" height=\"24px\"viewBox=\"0 0 24 24\"\n",
              "       width=\"24px\">\n",
              "    <path d=\"M0 0h24v24H0V0z\" fill=\"none\"/>\n",
              "    <path d=\"M18.56 5.44l.94 2.06.94-2.06 2.06-.94-2.06-.94-.94-2.06-.94 2.06-2.06.94zm-11 1L8.5 8.5l.94-2.06 2.06-.94-2.06-.94L8.5 2.5l-.94 2.06-2.06.94zm10 10l.94 2.06.94-2.06 2.06-.94-2.06-.94-.94-2.06-.94 2.06-2.06.94z\"/><path d=\"M17.41 7.96l-1.37-1.37c-.4-.4-.92-.59-1.43-.59-.52 0-1.04.2-1.43.59L10.3 9.45l-7.72 7.72c-.78.78-.78 2.05 0 2.83L4 21.41c.39.39.9.59 1.41.59.51 0 1.02-.2 1.41-.59l7.78-7.78 2.81-2.81c.8-.78.8-2.07 0-2.86zM5.41 20L4 18.59l7.72-7.72 1.47 1.35L5.41 20z\"/>\n",
              "  </svg>\n",
              "      </button>\n",
              "      \n",
              "  <style>\n",
              "    .colab-df-container {\n",
              "      display:flex;\n",
              "      flex-wrap:wrap;\n",
              "      gap: 12px;\n",
              "    }\n",
              "\n",
              "    .colab-df-convert {\n",
              "      background-color: #E8F0FE;\n",
              "      border: none;\n",
              "      border-radius: 50%;\n",
              "      cursor: pointer;\n",
              "      display: none;\n",
              "      fill: #1967D2;\n",
              "      height: 32px;\n",
              "      padding: 0 0 0 0;\n",
              "      width: 32px;\n",
              "    }\n",
              "\n",
              "    .colab-df-convert:hover {\n",
              "      background-color: #E2EBFA;\n",
              "      box-shadow: 0px 1px 2px rgba(60, 64, 67, 0.3), 0px 1px 3px 1px rgba(60, 64, 67, 0.15);\n",
              "      fill: #174EA6;\n",
              "    }\n",
              "\n",
              "    [theme=dark] .colab-df-convert {\n",
              "      background-color: #3B4455;\n",
              "      fill: #D2E3FC;\n",
              "    }\n",
              "\n",
              "    [theme=dark] .colab-df-convert:hover {\n",
              "      background-color: #434B5C;\n",
              "      box-shadow: 0px 1px 3px 1px rgba(0, 0, 0, 0.15);\n",
              "      filter: drop-shadow(0px 1px 2px rgba(0, 0, 0, 0.3));\n",
              "      fill: #FFFFFF;\n",
              "    }\n",
              "  </style>\n",
              "\n",
              "      <script>\n",
              "        const buttonEl =\n",
              "          document.querySelector('#df-272722be-687c-44f1-bf81-e039f64f905a button.colab-df-convert');\n",
              "        buttonEl.style.display =\n",
              "          google.colab.kernel.accessAllowed ? 'block' : 'none';\n",
              "\n",
              "        async function convertToInteractive(key) {\n",
              "          const element = document.querySelector('#df-272722be-687c-44f1-bf81-e039f64f905a');\n",
              "          const dataTable =\n",
              "            await google.colab.kernel.invokeFunction('convertToInteractive',\n",
              "                                                     [key], {});\n",
              "          if (!dataTable) return;\n",
              "\n",
              "          const docLinkHtml = 'Like what you see? Visit the ' +\n",
              "            '<a target=\"_blank\" href=https://colab.research.google.com/notebooks/data_table.ipynb>data table notebook</a>'\n",
              "            + ' to learn more about interactive tables.';\n",
              "          element.innerHTML = '';\n",
              "          dataTable['output_type'] = 'display_data';\n",
              "          await google.colab.output.renderOutput(dataTable, element);\n",
              "          const docLink = document.createElement('div');\n",
              "          docLink.innerHTML = docLinkHtml;\n",
              "          element.appendChild(docLink);\n",
              "        }\n",
              "      </script>\n",
              "    </div>\n",
              "  </div>\n",
              "  "
            ]
          },
          "metadata": {},
          "execution_count": 75
        }
      ]
    },
    {
      "cell_type": "code",
      "source": [
        "maxret_df"
      ],
      "metadata": {
        "colab": {
          "base_uri": "https://localhost:8080/",
          "height": 80
        },
        "id": "fOqyJEbSPeIB",
        "outputId": "b0584ab9-6a55-44f1-c02d-523687fedb08"
      },
      "execution_count": 76,
      "outputs": [
        {
          "output_type": "execute_result",
          "data": {
            "text/plain": [
              "   Principal Component 1  Principal Component 2  Principal Component 3  \\\n",
              "0                  -0.95                    0.9                    1.0   \n",
              "\n",
              "   Principal Component 4  Principal Component 5  \n",
              "0                    1.0                  -0.95  "
            ],
            "text/html": [
              "\n",
              "  <div id=\"df-2a60dd31-44da-458a-ac92-712c6346dd56\">\n",
              "    <div class=\"colab-df-container\">\n",
              "      <div>\n",
              "<style scoped>\n",
              "    .dataframe tbody tr th:only-of-type {\n",
              "        vertical-align: middle;\n",
              "    }\n",
              "\n",
              "    .dataframe tbody tr th {\n",
              "        vertical-align: top;\n",
              "    }\n",
              "\n",
              "    .dataframe thead th {\n",
              "        text-align: right;\n",
              "    }\n",
              "</style>\n",
              "<table border=\"1\" class=\"dataframe\">\n",
              "  <thead>\n",
              "    <tr style=\"text-align: right;\">\n",
              "      <th></th>\n",
              "      <th>Principal Component 1</th>\n",
              "      <th>Principal Component 2</th>\n",
              "      <th>Principal Component 3</th>\n",
              "      <th>Principal Component 4</th>\n",
              "      <th>Principal Component 5</th>\n",
              "    </tr>\n",
              "  </thead>\n",
              "  <tbody>\n",
              "    <tr>\n",
              "      <th>0</th>\n",
              "      <td>-0.95</td>\n",
              "      <td>0.9</td>\n",
              "      <td>1.0</td>\n",
              "      <td>1.0</td>\n",
              "      <td>-0.95</td>\n",
              "    </tr>\n",
              "  </tbody>\n",
              "</table>\n",
              "</div>\n",
              "      <button class=\"colab-df-convert\" onclick=\"convertToInteractive('df-2a60dd31-44da-458a-ac92-712c6346dd56')\"\n",
              "              title=\"Convert this dataframe to an interactive table.\"\n",
              "              style=\"display:none;\">\n",
              "        \n",
              "  <svg xmlns=\"http://www.w3.org/2000/svg\" height=\"24px\"viewBox=\"0 0 24 24\"\n",
              "       width=\"24px\">\n",
              "    <path d=\"M0 0h24v24H0V0z\" fill=\"none\"/>\n",
              "    <path d=\"M18.56 5.44l.94 2.06.94-2.06 2.06-.94-2.06-.94-.94-2.06-.94 2.06-2.06.94zm-11 1L8.5 8.5l.94-2.06 2.06-.94-2.06-.94L8.5 2.5l-.94 2.06-2.06.94zm10 10l.94 2.06.94-2.06 2.06-.94-2.06-.94-.94-2.06-.94 2.06-2.06.94z\"/><path d=\"M17.41 7.96l-1.37-1.37c-.4-.4-.92-.59-1.43-.59-.52 0-1.04.2-1.43.59L10.3 9.45l-7.72 7.72c-.78.78-.78 2.05 0 2.83L4 21.41c.39.39.9.59 1.41.59.51 0 1.02-.2 1.41-.59l7.78-7.78 2.81-2.81c.8-.78.8-2.07 0-2.86zM5.41 20L4 18.59l7.72-7.72 1.47 1.35L5.41 20z\"/>\n",
              "  </svg>\n",
              "      </button>\n",
              "      \n",
              "  <style>\n",
              "    .colab-df-container {\n",
              "      display:flex;\n",
              "      flex-wrap:wrap;\n",
              "      gap: 12px;\n",
              "    }\n",
              "\n",
              "    .colab-df-convert {\n",
              "      background-color: #E8F0FE;\n",
              "      border: none;\n",
              "      border-radius: 50%;\n",
              "      cursor: pointer;\n",
              "      display: none;\n",
              "      fill: #1967D2;\n",
              "      height: 32px;\n",
              "      padding: 0 0 0 0;\n",
              "      width: 32px;\n",
              "    }\n",
              "\n",
              "    .colab-df-convert:hover {\n",
              "      background-color: #E2EBFA;\n",
              "      box-shadow: 0px 1px 2px rgba(60, 64, 67, 0.3), 0px 1px 3px 1px rgba(60, 64, 67, 0.15);\n",
              "      fill: #174EA6;\n",
              "    }\n",
              "\n",
              "    [theme=dark] .colab-df-convert {\n",
              "      background-color: #3B4455;\n",
              "      fill: #D2E3FC;\n",
              "    }\n",
              "\n",
              "    [theme=dark] .colab-df-convert:hover {\n",
              "      background-color: #434B5C;\n",
              "      box-shadow: 0px 1px 3px 1px rgba(0, 0, 0, 0.15);\n",
              "      filter: drop-shadow(0px 1px 2px rgba(0, 0, 0, 0.3));\n",
              "      fill: #FFFFFF;\n",
              "    }\n",
              "  </style>\n",
              "\n",
              "      <script>\n",
              "        const buttonEl =\n",
              "          document.querySelector('#df-2a60dd31-44da-458a-ac92-712c6346dd56 button.colab-df-convert');\n",
              "        buttonEl.style.display =\n",
              "          google.colab.kernel.accessAllowed ? 'block' : 'none';\n",
              "\n",
              "        async function convertToInteractive(key) {\n",
              "          const element = document.querySelector('#df-2a60dd31-44da-458a-ac92-712c6346dd56');\n",
              "          const dataTable =\n",
              "            await google.colab.kernel.invokeFunction('convertToInteractive',\n",
              "                                                     [key], {});\n",
              "          if (!dataTable) return;\n",
              "\n",
              "          const docLinkHtml = 'Like what you see? Visit the ' +\n",
              "            '<a target=\"_blank\" href=https://colab.research.google.com/notebooks/data_table.ipynb>data table notebook</a>'\n",
              "            + ' to learn more about interactive tables.';\n",
              "          element.innerHTML = '';\n",
              "          dataTable['output_type'] = 'display_data';\n",
              "          await google.colab.output.renderOutput(dataTable, element);\n",
              "          const docLink = document.createElement('div');\n",
              "          docLink.innerHTML = docLinkHtml;\n",
              "          element.appendChild(docLink);\n",
              "        }\n",
              "      </script>\n",
              "    </div>\n",
              "  </div>\n",
              "  "
            ]
          },
          "metadata": {},
          "execution_count": 76
        }
      ]
    },
    {
      "cell_type": "code",
      "source": [
        "pw_maxret_norm_df"
      ],
      "metadata": {
        "colab": {
          "base_uri": "https://localhost:8080/",
          "height": 300
        },
        "id": "802ZqGqoQKN8",
        "outputId": "45a9dc15-8b31-459f-ab12-07e28c7a281f"
      },
      "execution_count": 77,
      "outputs": [
        {
          "output_type": "execute_result",
          "data": {
            "text/plain": [
              "                     weights\n",
              "consumer defensive -0.425386\n",
              "consumer goods      0.323959\n",
              "financials         -0.175765\n",
              "healthcare          0.680157\n",
              "industrials         0.243739\n",
              "basic materials     0.266768\n",
              "telecommunication  -0.233362\n",
              "real estate         0.319891"
            ],
            "text/html": [
              "\n",
              "  <div id=\"df-dea7047f-fd4d-41d6-8b71-37a7ee73bd2e\">\n",
              "    <div class=\"colab-df-container\">\n",
              "      <div>\n",
              "<style scoped>\n",
              "    .dataframe tbody tr th:only-of-type {\n",
              "        vertical-align: middle;\n",
              "    }\n",
              "\n",
              "    .dataframe tbody tr th {\n",
              "        vertical-align: top;\n",
              "    }\n",
              "\n",
              "    .dataframe thead th {\n",
              "        text-align: right;\n",
              "    }\n",
              "</style>\n",
              "<table border=\"1\" class=\"dataframe\">\n",
              "  <thead>\n",
              "    <tr style=\"text-align: right;\">\n",
              "      <th></th>\n",
              "      <th>weights</th>\n",
              "    </tr>\n",
              "  </thead>\n",
              "  <tbody>\n",
              "    <tr>\n",
              "      <th>consumer defensive</th>\n",
              "      <td>-0.425386</td>\n",
              "    </tr>\n",
              "    <tr>\n",
              "      <th>consumer goods</th>\n",
              "      <td>0.323959</td>\n",
              "    </tr>\n",
              "    <tr>\n",
              "      <th>financials</th>\n",
              "      <td>-0.175765</td>\n",
              "    </tr>\n",
              "    <tr>\n",
              "      <th>healthcare</th>\n",
              "      <td>0.680157</td>\n",
              "    </tr>\n",
              "    <tr>\n",
              "      <th>industrials</th>\n",
              "      <td>0.243739</td>\n",
              "    </tr>\n",
              "    <tr>\n",
              "      <th>basic materials</th>\n",
              "      <td>0.266768</td>\n",
              "    </tr>\n",
              "    <tr>\n",
              "      <th>telecommunication</th>\n",
              "      <td>-0.233362</td>\n",
              "    </tr>\n",
              "    <tr>\n",
              "      <th>real estate</th>\n",
              "      <td>0.319891</td>\n",
              "    </tr>\n",
              "  </tbody>\n",
              "</table>\n",
              "</div>\n",
              "      <button class=\"colab-df-convert\" onclick=\"convertToInteractive('df-dea7047f-fd4d-41d6-8b71-37a7ee73bd2e')\"\n",
              "              title=\"Convert this dataframe to an interactive table.\"\n",
              "              style=\"display:none;\">\n",
              "        \n",
              "  <svg xmlns=\"http://www.w3.org/2000/svg\" height=\"24px\"viewBox=\"0 0 24 24\"\n",
              "       width=\"24px\">\n",
              "    <path d=\"M0 0h24v24H0V0z\" fill=\"none\"/>\n",
              "    <path d=\"M18.56 5.44l.94 2.06.94-2.06 2.06-.94-2.06-.94-.94-2.06-.94 2.06-2.06.94zm-11 1L8.5 8.5l.94-2.06 2.06-.94-2.06-.94L8.5 2.5l-.94 2.06-2.06.94zm10 10l.94 2.06.94-2.06 2.06-.94-2.06-.94-.94-2.06-.94 2.06-2.06.94z\"/><path d=\"M17.41 7.96l-1.37-1.37c-.4-.4-.92-.59-1.43-.59-.52 0-1.04.2-1.43.59L10.3 9.45l-7.72 7.72c-.78.78-.78 2.05 0 2.83L4 21.41c.39.39.9.59 1.41.59.51 0 1.02-.2 1.41-.59l7.78-7.78 2.81-2.81c.8-.78.8-2.07 0-2.86zM5.41 20L4 18.59l7.72-7.72 1.47 1.35L5.41 20z\"/>\n",
              "  </svg>\n",
              "      </button>\n",
              "      \n",
              "  <style>\n",
              "    .colab-df-container {\n",
              "      display:flex;\n",
              "      flex-wrap:wrap;\n",
              "      gap: 12px;\n",
              "    }\n",
              "\n",
              "    .colab-df-convert {\n",
              "      background-color: #E8F0FE;\n",
              "      border: none;\n",
              "      border-radius: 50%;\n",
              "      cursor: pointer;\n",
              "      display: none;\n",
              "      fill: #1967D2;\n",
              "      height: 32px;\n",
              "      padding: 0 0 0 0;\n",
              "      width: 32px;\n",
              "    }\n",
              "\n",
              "    .colab-df-convert:hover {\n",
              "      background-color: #E2EBFA;\n",
              "      box-shadow: 0px 1px 2px rgba(60, 64, 67, 0.3), 0px 1px 3px 1px rgba(60, 64, 67, 0.15);\n",
              "      fill: #174EA6;\n",
              "    }\n",
              "\n",
              "    [theme=dark] .colab-df-convert {\n",
              "      background-color: #3B4455;\n",
              "      fill: #D2E3FC;\n",
              "    }\n",
              "\n",
              "    [theme=dark] .colab-df-convert:hover {\n",
              "      background-color: #434B5C;\n",
              "      box-shadow: 0px 1px 3px 1px rgba(0, 0, 0, 0.15);\n",
              "      filter: drop-shadow(0px 1px 2px rgba(0, 0, 0, 0.3));\n",
              "      fill: #FFFFFF;\n",
              "    }\n",
              "  </style>\n",
              "\n",
              "      <script>\n",
              "        const buttonEl =\n",
              "          document.querySelector('#df-dea7047f-fd4d-41d6-8b71-37a7ee73bd2e button.colab-df-convert');\n",
              "        buttonEl.style.display =\n",
              "          google.colab.kernel.accessAllowed ? 'block' : 'none';\n",
              "\n",
              "        async function convertToInteractive(key) {\n",
              "          const element = document.querySelector('#df-dea7047f-fd4d-41d6-8b71-37a7ee73bd2e');\n",
              "          const dataTable =\n",
              "            await google.colab.kernel.invokeFunction('convertToInteractive',\n",
              "                                                     [key], {});\n",
              "          if (!dataTable) return;\n",
              "\n",
              "          const docLinkHtml = 'Like what you see? Visit the ' +\n",
              "            '<a target=\"_blank\" href=https://colab.research.google.com/notebooks/data_table.ipynb>data table notebook</a>'\n",
              "            + ' to learn more about interactive tables.';\n",
              "          element.innerHTML = '';\n",
              "          dataTable['output_type'] = 'display_data';\n",
              "          await google.colab.output.renderOutput(dataTable, element);\n",
              "          const docLink = document.createElement('div');\n",
              "          docLink.innerHTML = docLinkHtml;\n",
              "          element.appendChild(docLink);\n",
              "        }\n",
              "      </script>\n",
              "    </div>\n",
              "  </div>\n",
              "  "
            ]
          },
          "metadata": {},
          "execution_count": 77
        }
      ]
    },
    {
      "cell_type": "code",
      "source": [
        "pw_maxsharpe_norm_df"
      ],
      "metadata": {
        "id": "kZSZ2yzcYR6c",
        "outputId": "b74eff56-52e0-4367-f7dd-bb8e029255c9",
        "colab": {
          "base_uri": "https://localhost:8080/",
          "height": 300
        }
      },
      "execution_count": 78,
      "outputs": [
        {
          "output_type": "execute_result",
          "data": {
            "text/plain": [
              "                     weights\n",
              "consumer defensive -0.268751\n",
              "consumer goods     -0.011140\n",
              "financials          0.003578\n",
              "healthcare          0.912410\n",
              "industrials         0.112344\n",
              "basic materials     0.057216\n",
              "telecommunication   0.115260\n",
              "real estate         0.079083"
            ],
            "text/html": [
              "\n",
              "  <div id=\"df-234d44c9-94a4-4953-bedb-cd54d7cb5917\">\n",
              "    <div class=\"colab-df-container\">\n",
              "      <div>\n",
              "<style scoped>\n",
              "    .dataframe tbody tr th:only-of-type {\n",
              "        vertical-align: middle;\n",
              "    }\n",
              "\n",
              "    .dataframe tbody tr th {\n",
              "        vertical-align: top;\n",
              "    }\n",
              "\n",
              "    .dataframe thead th {\n",
              "        text-align: right;\n",
              "    }\n",
              "</style>\n",
              "<table border=\"1\" class=\"dataframe\">\n",
              "  <thead>\n",
              "    <tr style=\"text-align: right;\">\n",
              "      <th></th>\n",
              "      <th>weights</th>\n",
              "    </tr>\n",
              "  </thead>\n",
              "  <tbody>\n",
              "    <tr>\n",
              "      <th>consumer defensive</th>\n",
              "      <td>-0.268751</td>\n",
              "    </tr>\n",
              "    <tr>\n",
              "      <th>consumer goods</th>\n",
              "      <td>-0.011140</td>\n",
              "    </tr>\n",
              "    <tr>\n",
              "      <th>financials</th>\n",
              "      <td>0.003578</td>\n",
              "    </tr>\n",
              "    <tr>\n",
              "      <th>healthcare</th>\n",
              "      <td>0.912410</td>\n",
              "    </tr>\n",
              "    <tr>\n",
              "      <th>industrials</th>\n",
              "      <td>0.112344</td>\n",
              "    </tr>\n",
              "    <tr>\n",
              "      <th>basic materials</th>\n",
              "      <td>0.057216</td>\n",
              "    </tr>\n",
              "    <tr>\n",
              "      <th>telecommunication</th>\n",
              "      <td>0.115260</td>\n",
              "    </tr>\n",
              "    <tr>\n",
              "      <th>real estate</th>\n",
              "      <td>0.079083</td>\n",
              "    </tr>\n",
              "  </tbody>\n",
              "</table>\n",
              "</div>\n",
              "      <button class=\"colab-df-convert\" onclick=\"convertToInteractive('df-234d44c9-94a4-4953-bedb-cd54d7cb5917')\"\n",
              "              title=\"Convert this dataframe to an interactive table.\"\n",
              "              style=\"display:none;\">\n",
              "        \n",
              "  <svg xmlns=\"http://www.w3.org/2000/svg\" height=\"24px\"viewBox=\"0 0 24 24\"\n",
              "       width=\"24px\">\n",
              "    <path d=\"M0 0h24v24H0V0z\" fill=\"none\"/>\n",
              "    <path d=\"M18.56 5.44l.94 2.06.94-2.06 2.06-.94-2.06-.94-.94-2.06-.94 2.06-2.06.94zm-11 1L8.5 8.5l.94-2.06 2.06-.94-2.06-.94L8.5 2.5l-.94 2.06-2.06.94zm10 10l.94 2.06.94-2.06 2.06-.94-2.06-.94-.94-2.06-.94 2.06-2.06.94z\"/><path d=\"M17.41 7.96l-1.37-1.37c-.4-.4-.92-.59-1.43-.59-.52 0-1.04.2-1.43.59L10.3 9.45l-7.72 7.72c-.78.78-.78 2.05 0 2.83L4 21.41c.39.39.9.59 1.41.59.51 0 1.02-.2 1.41-.59l7.78-7.78 2.81-2.81c.8-.78.8-2.07 0-2.86zM5.41 20L4 18.59l7.72-7.72 1.47 1.35L5.41 20z\"/>\n",
              "  </svg>\n",
              "      </button>\n",
              "      \n",
              "  <style>\n",
              "    .colab-df-container {\n",
              "      display:flex;\n",
              "      flex-wrap:wrap;\n",
              "      gap: 12px;\n",
              "    }\n",
              "\n",
              "    .colab-df-convert {\n",
              "      background-color: #E8F0FE;\n",
              "      border: none;\n",
              "      border-radius: 50%;\n",
              "      cursor: pointer;\n",
              "      display: none;\n",
              "      fill: #1967D2;\n",
              "      height: 32px;\n",
              "      padding: 0 0 0 0;\n",
              "      width: 32px;\n",
              "    }\n",
              "\n",
              "    .colab-df-convert:hover {\n",
              "      background-color: #E2EBFA;\n",
              "      box-shadow: 0px 1px 2px rgba(60, 64, 67, 0.3), 0px 1px 3px 1px rgba(60, 64, 67, 0.15);\n",
              "      fill: #174EA6;\n",
              "    }\n",
              "\n",
              "    [theme=dark] .colab-df-convert {\n",
              "      background-color: #3B4455;\n",
              "      fill: #D2E3FC;\n",
              "    }\n",
              "\n",
              "    [theme=dark] .colab-df-convert:hover {\n",
              "      background-color: #434B5C;\n",
              "      box-shadow: 0px 1px 3px 1px rgba(0, 0, 0, 0.15);\n",
              "      filter: drop-shadow(0px 1px 2px rgba(0, 0, 0, 0.3));\n",
              "      fill: #FFFFFF;\n",
              "    }\n",
              "  </style>\n",
              "\n",
              "      <script>\n",
              "        const buttonEl =\n",
              "          document.querySelector('#df-234d44c9-94a4-4953-bedb-cd54d7cb5917 button.colab-df-convert');\n",
              "        buttonEl.style.display =\n",
              "          google.colab.kernel.accessAllowed ? 'block' : 'none';\n",
              "\n",
              "        async function convertToInteractive(key) {\n",
              "          const element = document.querySelector('#df-234d44c9-94a4-4953-bedb-cd54d7cb5917');\n",
              "          const dataTable =\n",
              "            await google.colab.kernel.invokeFunction('convertToInteractive',\n",
              "                                                     [key], {});\n",
              "          if (!dataTable) return;\n",
              "\n",
              "          const docLinkHtml = 'Like what you see? Visit the ' +\n",
              "            '<a target=\"_blank\" href=https://colab.research.google.com/notebooks/data_table.ipynb>data table notebook</a>'\n",
              "            + ' to learn more about interactive tables.';\n",
              "          element.innerHTML = '';\n",
              "          dataTable['output_type'] = 'display_data';\n",
              "          await google.colab.output.renderOutput(dataTable, element);\n",
              "          const docLink = document.createElement('div');\n",
              "          docLink.innerHTML = docLinkHtml;\n",
              "          element.appendChild(docLink);\n",
              "        }\n",
              "      </script>\n",
              "    </div>\n",
              "  </div>\n",
              "  "
            ]
          },
          "metadata": {},
          "execution_count": 78
        }
      ]
    },
    {
      "cell_type": "code",
      "source": [
        "pw_minvol_norm_df"
      ],
      "metadata": {
        "id": "O8nu4n1lYm7I",
        "outputId": "946d9cb5-d5d3-40e3-afa5-15970275a1cf",
        "colab": {
          "base_uri": "https://localhost:8080/",
          "height": 300
        }
      },
      "execution_count": 79,
      "outputs": [
        {
          "output_type": "execute_result",
          "data": {
            "text/plain": [
              "                     weights\n",
              "consumer defensive  0.431215\n",
              "consumer goods      0.704411\n",
              "financials         -0.648081\n",
              "healthcare         -0.585768\n",
              "industrials         0.071811\n",
              "basic materials     0.228104\n",
              "telecommunication   0.202948\n",
              "real estate         0.595361"
            ],
            "text/html": [
              "\n",
              "  <div id=\"df-84b402cf-c182-48cc-a5ea-fbc14bd86e9d\">\n",
              "    <div class=\"colab-df-container\">\n",
              "      <div>\n",
              "<style scoped>\n",
              "    .dataframe tbody tr th:only-of-type {\n",
              "        vertical-align: middle;\n",
              "    }\n",
              "\n",
              "    .dataframe tbody tr th {\n",
              "        vertical-align: top;\n",
              "    }\n",
              "\n",
              "    .dataframe thead th {\n",
              "        text-align: right;\n",
              "    }\n",
              "</style>\n",
              "<table border=\"1\" class=\"dataframe\">\n",
              "  <thead>\n",
              "    <tr style=\"text-align: right;\">\n",
              "      <th></th>\n",
              "      <th>weights</th>\n",
              "    </tr>\n",
              "  </thead>\n",
              "  <tbody>\n",
              "    <tr>\n",
              "      <th>consumer defensive</th>\n",
              "      <td>0.431215</td>\n",
              "    </tr>\n",
              "    <tr>\n",
              "      <th>consumer goods</th>\n",
              "      <td>0.704411</td>\n",
              "    </tr>\n",
              "    <tr>\n",
              "      <th>financials</th>\n",
              "      <td>-0.648081</td>\n",
              "    </tr>\n",
              "    <tr>\n",
              "      <th>healthcare</th>\n",
              "      <td>-0.585768</td>\n",
              "    </tr>\n",
              "    <tr>\n",
              "      <th>industrials</th>\n",
              "      <td>0.071811</td>\n",
              "    </tr>\n",
              "    <tr>\n",
              "      <th>basic materials</th>\n",
              "      <td>0.228104</td>\n",
              "    </tr>\n",
              "    <tr>\n",
              "      <th>telecommunication</th>\n",
              "      <td>0.202948</td>\n",
              "    </tr>\n",
              "    <tr>\n",
              "      <th>real estate</th>\n",
              "      <td>0.595361</td>\n",
              "    </tr>\n",
              "  </tbody>\n",
              "</table>\n",
              "</div>\n",
              "      <button class=\"colab-df-convert\" onclick=\"convertToInteractive('df-84b402cf-c182-48cc-a5ea-fbc14bd86e9d')\"\n",
              "              title=\"Convert this dataframe to an interactive table.\"\n",
              "              style=\"display:none;\">\n",
              "        \n",
              "  <svg xmlns=\"http://www.w3.org/2000/svg\" height=\"24px\"viewBox=\"0 0 24 24\"\n",
              "       width=\"24px\">\n",
              "    <path d=\"M0 0h24v24H0V0z\" fill=\"none\"/>\n",
              "    <path d=\"M18.56 5.44l.94 2.06.94-2.06 2.06-.94-2.06-.94-.94-2.06-.94 2.06-2.06.94zm-11 1L8.5 8.5l.94-2.06 2.06-.94-2.06-.94L8.5 2.5l-.94 2.06-2.06.94zm10 10l.94 2.06.94-2.06 2.06-.94-2.06-.94-.94-2.06-.94 2.06-2.06.94z\"/><path d=\"M17.41 7.96l-1.37-1.37c-.4-.4-.92-.59-1.43-.59-.52 0-1.04.2-1.43.59L10.3 9.45l-7.72 7.72c-.78.78-.78 2.05 0 2.83L4 21.41c.39.39.9.59 1.41.59.51 0 1.02-.2 1.41-.59l7.78-7.78 2.81-2.81c.8-.78.8-2.07 0-2.86zM5.41 20L4 18.59l7.72-7.72 1.47 1.35L5.41 20z\"/>\n",
              "  </svg>\n",
              "      </button>\n",
              "      \n",
              "  <style>\n",
              "    .colab-df-container {\n",
              "      display:flex;\n",
              "      flex-wrap:wrap;\n",
              "      gap: 12px;\n",
              "    }\n",
              "\n",
              "    .colab-df-convert {\n",
              "      background-color: #E8F0FE;\n",
              "      border: none;\n",
              "      border-radius: 50%;\n",
              "      cursor: pointer;\n",
              "      display: none;\n",
              "      fill: #1967D2;\n",
              "      height: 32px;\n",
              "      padding: 0 0 0 0;\n",
              "      width: 32px;\n",
              "    }\n",
              "\n",
              "    .colab-df-convert:hover {\n",
              "      background-color: #E2EBFA;\n",
              "      box-shadow: 0px 1px 2px rgba(60, 64, 67, 0.3), 0px 1px 3px 1px rgba(60, 64, 67, 0.15);\n",
              "      fill: #174EA6;\n",
              "    }\n",
              "\n",
              "    [theme=dark] .colab-df-convert {\n",
              "      background-color: #3B4455;\n",
              "      fill: #D2E3FC;\n",
              "    }\n",
              "\n",
              "    [theme=dark] .colab-df-convert:hover {\n",
              "      background-color: #434B5C;\n",
              "      box-shadow: 0px 1px 3px 1px rgba(0, 0, 0, 0.15);\n",
              "      filter: drop-shadow(0px 1px 2px rgba(0, 0, 0, 0.3));\n",
              "      fill: #FFFFFF;\n",
              "    }\n",
              "  </style>\n",
              "\n",
              "      <script>\n",
              "        const buttonEl =\n",
              "          document.querySelector('#df-84b402cf-c182-48cc-a5ea-fbc14bd86e9d button.colab-df-convert');\n",
              "        buttonEl.style.display =\n",
              "          google.colab.kernel.accessAllowed ? 'block' : 'none';\n",
              "\n",
              "        async function convertToInteractive(key) {\n",
              "          const element = document.querySelector('#df-84b402cf-c182-48cc-a5ea-fbc14bd86e9d');\n",
              "          const dataTable =\n",
              "            await google.colab.kernel.invokeFunction('convertToInteractive',\n",
              "                                                     [key], {});\n",
              "          if (!dataTable) return;\n",
              "\n",
              "          const docLinkHtml = 'Like what you see? Visit the ' +\n",
              "            '<a target=\"_blank\" href=https://colab.research.google.com/notebooks/data_table.ipynb>data table notebook</a>'\n",
              "            + ' to learn more about interactive tables.';\n",
              "          element.innerHTML = '';\n",
              "          dataTable['output_type'] = 'display_data';\n",
              "          await google.colab.output.renderOutput(dataTable, element);\n",
              "          const docLink = document.createElement('div');\n",
              "          docLink.innerHTML = docLinkHtml;\n",
              "          element.appendChild(docLink);\n",
              "        }\n",
              "      </script>\n",
              "    </div>\n",
              "  </div>\n",
              "  "
            ]
          },
          "metadata": {},
          "execution_count": 79
        }
      ]
    },
    {
      "cell_type": "code",
      "source": [
        "exp_var_pca = pca.explained_variance_ratio_\n",
        "\n",
        "\n",
        "cum_sum_eigenvalues = np.cumsum(exp_var_pca)\n",
        "\n",
        "plt.bar(range(1,6), exp_var_pca, alpha=1, align='center', label='Individual explained variance')\n",
        "plt.step(range(1,6), cum_sum_eigenvalues, where='mid',label='Cumulative explained variance',c='red')\n",
        "plt.ylabel('Explained variance ratio')\n",
        "plt.xlabel('Principal component index')\n",
        "plt.legend(loc='best')\n",
        "plt.tight_layout()\n",
        "plt.show()"
      ],
      "metadata": {
        "id": "Lvu0TaxirL34",
        "colab": {
          "base_uri": "https://localhost:8080/",
          "height": 297
        },
        "outputId": "4feaa78d-e2ef-42fc-e1a6-88021cce8612"
      },
      "execution_count": 94,
      "outputs": [
        {
          "output_type": "display_data",
          "data": {
            "text/plain": [
              "<Figure size 432x288 with 1 Axes>"
            ],
            "image/png": "[encoded data removed]"
          },
          "metadata": {
            "needs_background": "light"
          }
        }
      ]
    },
    {
      "cell_type": "code",
      "source": [
        "def create_sector_returns(sector):\n",
        "  data=pdr.get_data_yahoo(sector,start_test_quarter, end_test_quarter, progress=False )['Adj Close'] #.resample('M').ffill() \n",
        "  ret=np.log(data / data.shift(1))[1:] \n",
        "  \n",
        "  month_returns_array= pd.DataFrame(ret) \n",
        "  mra= month_returns_array.fillna(0)\n",
        "  sector_ret=[] \n",
        "  for x in range(len(mra)):\n",
        "    returns_data = len(mra.iloc[x,:].dropna())  #use the dropna, then calculate how many columns are left for every row. Do this so that the 0's don't pull down the average by dividing by the length of the total stocks, only dividing by those with non 0 values\n",
        "    if returns_data == 0: #avoid dividing by 0\n",
        "      returns_data = 1\n",
        "    sector_ret.append(np.sum(mra.iloc[x,:])/returns_data)\n",
        "  sec_ret=np.array(sector_ret) \n",
        "  return sec_ret"
      ],
      "metadata": {
        "id": "Dsru8UItj0RP"
      },
      "execution_count": 34,
      "outputs": []
    },
    {
      "cell_type": "code",
      "source": [
        "post_opt_sectors_ret= np.column_stack((create_sector_returns(consumer_defensive),create_sector_returns(consumer_goods),create_sector_returns(financials),create_sector_returns(healthcare),create_sector_returns(industrials),create_sector_returns(basic_materials),create_sector_returns(telecommunication),create_sector_returns(real_estate)))\n",
        "post_sectors_df=pd.DataFrame(post_opt_sectors_ret,columns=sectors)"
      ],
      "metadata": {
        "id": "hyYgxgAYj0RQ"
      },
      "execution_count": 35,
      "outputs": []
    },
    {
      "cell_type": "code",
      "source": [
        "pw_maxsharpe_norm= pw_maxsharpe/np.sum(pw_maxsharpe)\n",
        "pw_maxsharpe_norm_df=pd.DataFrame(pw_maxsharpe_norm,index=sectors,columns=[\"weights\"])\n",
        "pw_maxret_norm= pw_maxret/np.sum(pw_maxret)\n",
        "pw_maxret_norm_df=pd.DataFrame(pw_maxret_norm,index=sectors,columns=[\"weights\"])\n",
        "pw_minvol_norm= pw_minvol/np.sum(pw_minvol)\n",
        "pw_minvol_norm_df=pd.DataFrame(pw_minvol_norm,index=sectors,columns=[\"weights\"])\n"
      ],
      "metadata": {
        "id": "RUdPNLJHj0RS"
      },
      "execution_count": 36,
      "outputs": []
    },
    {
      "cell_type": "code",
      "source": [
        "back_tested_maxret=pw_maxret_norm*post_sectors_df.mean()*64\n",
        "back_tested_minvol=pw_minvol_norm*post_sectors_df.mean()*64\n",
        "back_tested_maxsharpe=pw_maxsharpe_norm*post_sectors_df.mean()*64\n"
      ],
      "metadata": {
        "id": "2Rok1fhzj0RT"
      },
      "execution_count": 37,
      "outputs": []
    },
    {
      "cell_type": "code",
      "source": [
        "list_of_rets_quarter=[]\n",
        "list_of_rets_quarter.append(back_tested_minvol.sum()*100)\n",
        "list_of_rets_quarter.append(back_tested_maxsharpe.sum()*100)\n",
        "list_of_rets_quarter.append(back_tested_maxret.sum()*100)\n"
      ],
      "metadata": {
        "id": "yJgWy8Pkj0RT"
      },
      "execution_count": 95,
      "outputs": []
    },
    {
      "cell_type": "code",
      "source": [
        "def create_sector_returns(sector):\n",
        "  data=pdr.get_data_yahoo(sector,start_test_semester, end_test_semester, progress=False )['Adj Close'] #.resample('M').ffill() \n",
        "  ret=np.log(data / data.shift(1))[1:] \n",
        "  \n",
        "  month_returns_array= pd.DataFrame(ret) \n",
        "  mra= month_returns_array.fillna(0)\n",
        "  sector_ret=[] \n",
        "  for x in range(len(mra)):\n",
        "    returns_data = len(mra.iloc[x,:].dropna())  #use the dropna, then calculate how many columns are left for every row. Do this so that the 0's don't pull down the average by dividing by the length of the total stocks, only dividing by those with non 0 values\n",
        "    if returns_data == 0: #avoid dividing by 0\n",
        "      returns_data = 1\n",
        "    sector_ret.append(np.sum(mra.iloc[x,:])/returns_data)\n",
        "  sec_ret=np.array(sector_ret) \n",
        "  return sec_ret"
      ],
      "metadata": {
        "id": "2Jsb613DjRH3"
      },
      "execution_count": 39,
      "outputs": []
    },
    {
      "cell_type": "code",
      "source": [
        "post_opt_sectors_ret= np.column_stack((create_sector_returns(consumer_defensive),create_sector_returns(consumer_goods),create_sector_returns(financials),create_sector_returns(healthcare),create_sector_returns(industrials),create_sector_returns(basic_materials),create_sector_returns(telecommunication),create_sector_returns(real_estate)))\n",
        "post_sectors_df=pd.DataFrame(post_opt_sectors_ret,columns=sectors)"
      ],
      "metadata": {
        "id": "XldpmS5HjRH4"
      },
      "execution_count": 40,
      "outputs": []
    },
    {
      "cell_type": "code",
      "source": [
        "pw_maxsharpe_norm= pw_maxsharpe/np.sum(pw_maxsharpe)\n",
        "pw_maxsharpe_norm_df=pd.DataFrame(pw_maxsharpe_norm,index=sectors,columns=[\"weights\"])\n",
        "pw_maxret_norm= pw_maxret/np.sum(pw_maxret)\n",
        "pw_maxret_norm_df=pd.DataFrame(pw_maxret_norm,index=sectors,columns=[\"weights\"])\n",
        "pw_minvol_norm= pw_minvol/np.sum(pw_minvol)\n",
        "pw_minvol_norm_df=pd.DataFrame(pw_minvol_norm,index=sectors,columns=[\"weights\"])\n"
      ],
      "metadata": {
        "id": "2P8Fk4CYjRH5"
      },
      "execution_count": 41,
      "outputs": []
    },
    {
      "cell_type": "code",
      "source": [
        "back_tested_maxret=pw_maxret_norm*post_sectors_df.mean()*125\n",
        "back_tested_minvol=pw_minvol_norm*post_sectors_df.mean()*125\n",
        "back_tested_maxsharpe=pw_maxsharpe_norm*post_sectors_df.mean()*125\n"
      ],
      "metadata": {
        "id": "CTOZ4J15jg6Y"
      },
      "execution_count": 42,
      "outputs": []
    },
    {
      "cell_type": "code",
      "source": [
        "list_of_rets_semester=[]\n",
        "list_of_rets_semester.append(back_tested_minvol.sum()*100)\n",
        "list_of_rets_semester.append(back_tested_maxsharpe.sum()*100)\n",
        "list_of_rets_semester.append(back_tested_maxret.sum()*100)\n",
        "\n"
      ],
      "metadata": {
        "id": "MQmxTcA9jg6Z"
      },
      "execution_count": 96,
      "outputs": []
    },
    {
      "cell_type": "code",
      "source": [
        "list_of_rets_quarter_arr=np.array(list_of_rets_quarter)\n",
        "list_of_rets_semester_arr=np.array(list_of_rets_semester)\n",
        "list_of_rets_annual_arr=np.array(list_of_rets_annual)\n",
        "all_returns=np.column_stack((list_of_rets_quarter_arr,list_of_rets_semester_arr,list_of_rets_annual_arr))\n"
      ],
      "metadata": {
        "id": "t02_B8iqfv5Y"
      },
      "execution_count": 97,
      "outputs": []
    },
    {
      "cell_type": "code",
      "source": [
        "all_returns_df=pd.DataFrame(all_returns,index=[\"minvol\",\"maxsharpe\",\"maxret\"],columns=[\"quarter\",\"semester\",\"annual\"])\n",
        "all_returns_df"
      ],
      "metadata": {
        "id": "GIv0oOtygalN",
        "colab": {
          "base_uri": "https://localhost:8080/",
          "height": 143
        },
        "outputId": "e56fab69-50ab-4dac-a718-8bcf8dbeece4"
      },
      "execution_count": 45,
      "outputs": [
        {
          "output_type": "execute_result",
          "data": {
            "text/plain": [
              "             quarter  semester     annual\n",
              "minvol     11.277509  0.947564 -12.529850\n",
              "maxsharpe  -1.921561 -1.481512   9.802325\n",
              "maxret      2.601375  2.736023  17.131212"
            ],
            "text/html": [
              "\n",
              "  <div id=\"df-c67a7159-a2d9-4276-80fd-2ee11af03079\">\n",
              "    <div class=\"colab-df-container\">\n",
              "      <div>\n",
              "<style scoped>\n",
              "    .dataframe tbody tr th:only-of-type {\n",
              "        vertical-align: middle;\n",
              "    }\n",
              "\n",
              "    .dataframe tbody tr th {\n",
              "        vertical-align: top;\n",
              "    }\n",
              "\n",
              "    .dataframe thead th {\n",
              "        text-align: right;\n",
              "    }\n",
              "</style>\n",
              "<table border=\"1\" class=\"dataframe\">\n",
              "  <thead>\n",
              "    <tr style=\"text-align: right;\">\n",
              "      <th></th>\n",
              "      <th>quarter</th>\n",
              "      <th>semester</th>\n",
              "      <th>annual</th>\n",
              "    </tr>\n",
              "  </thead>\n",
              "  <tbody>\n",
              "    <tr>\n",
              "      <th>minvol</th>\n",
              "      <td>11.277509</td>\n",
              "      <td>0.947564</td>\n",
              "      <td>-12.529850</td>\n",
              "    </tr>\n",
              "    <tr>\n",
              "      <th>maxsharpe</th>\n",
              "      <td>-1.921561</td>\n",
              "      <td>-1.481512</td>\n",
              "      <td>9.802325</td>\n",
              "    </tr>\n",
              "    <tr>\n",
              "      <th>maxret</th>\n",
              "      <td>2.601375</td>\n",
              "      <td>2.736023</td>\n",
              "      <td>17.131212</td>\n",
              "    </tr>\n",
              "  </tbody>\n",
              "</table>\n",
              "</div>\n",
              "      <button class=\"colab-df-convert\" onclick=\"convertToInteractive('df-c67a7159-a2d9-4276-80fd-2ee11af03079')\"\n",
              "              title=\"Convert this dataframe to an interactive table.\"\n",
              "              style=\"display:none;\">\n",
              "        \n",
              "  <svg xmlns=\"http://www.w3.org/2000/svg\" height=\"24px\"viewBox=\"0 0 24 24\"\n",
              "       width=\"24px\">\n",
              "    <path d=\"M0 0h24v24H0V0z\" fill=\"none\"/>\n",
              "    <path d=\"M18.56 5.44l.94 2.06.94-2.06 2.06-.94-2.06-.94-.94-2.06-.94 2.06-2.06.94zm-11 1L8.5 8.5l.94-2.06 2.06-.94-2.06-.94L8.5 2.5l-.94 2.06-2.06.94zm10 10l.94 2.06.94-2.06 2.06-.94-2.06-.94-.94-2.06-.94 2.06-2.06.94z\"/><path d=\"M17.41 7.96l-1.37-1.37c-.4-.4-.92-.59-1.43-.59-.52 0-1.04.2-1.43.59L10.3 9.45l-7.72 7.72c-.78.78-.78 2.05 0 2.83L4 21.41c.39.39.9.59 1.41.59.51 0 1.02-.2 1.41-.59l7.78-7.78 2.81-2.81c.8-.78.8-2.07 0-2.86zM5.41 20L4 18.59l7.72-7.72 1.47 1.35L5.41 20z\"/>\n",
              "  </svg>\n",
              "      </button>\n",
              "      \n",
              "  <style>\n",
              "    .colab-df-container {\n",
              "      display:flex;\n",
              "      flex-wrap:wrap;\n",
              "      gap: 12px;\n",
              "    }\n",
              "\n",
              "    .colab-df-convert {\n",
              "      background-color: #E8F0FE;\n",
              "      border: none;\n",
              "      border-radius: 50%;\n",
              "      cursor: pointer;\n",
              "      display: none;\n",
              "      fill: #1967D2;\n",
              "      height: 32px;\n",
              "      padding: 0 0 0 0;\n",
              "      width: 32px;\n",
              "    }\n",
              "\n",
              "    .colab-df-convert:hover {\n",
              "      background-color: #E2EBFA;\n",
              "      box-shadow: 0px 1px 2px rgba(60, 64, 67, 0.3), 0px 1px 3px 1px rgba(60, 64, 67, 0.15);\n",
              "      fill: #174EA6;\n",
              "    }\n",
              "\n",
              "    [theme=dark] .colab-df-convert {\n",
              "      background-color: #3B4455;\n",
              "      fill: #D2E3FC;\n",
              "    }\n",
              "\n",
              "    [theme=dark] .colab-df-convert:hover {\n",
              "      background-color: #434B5C;\n",
              "      box-shadow: 0px 1px 3px 1px rgba(0, 0, 0, 0.15);\n",
              "      filter: drop-shadow(0px 1px 2px rgba(0, 0, 0, 0.3));\n",
              "      fill: #FFFFFF;\n",
              "    }\n",
              "  </style>\n",
              "\n",
              "      <script>\n",
              "        const buttonEl =\n",
              "          document.querySelector('#df-c67a7159-a2d9-4276-80fd-2ee11af03079 button.colab-df-convert');\n",
              "        buttonEl.style.display =\n",
              "          google.colab.kernel.accessAllowed ? 'block' : 'none';\n",
              "\n",
              "        async function convertToInteractive(key) {\n",
              "          const element = document.querySelector('#df-c67a7159-a2d9-4276-80fd-2ee11af03079');\n",
              "          const dataTable =\n",
              "            await google.colab.kernel.invokeFunction('convertToInteractive',\n",
              "                                                     [key], {});\n",
              "          if (!dataTable) return;\n",
              "\n",
              "          const docLinkHtml = 'Like what you see? Visit the ' +\n",
              "            '<a target=\"_blank\" href=https://colab.research.google.com/notebooks/data_table.ipynb>data table notebook</a>'\n",
              "            + ' to learn more about interactive tables.';\n",
              "          element.innerHTML = '';\n",
              "          dataTable['output_type'] = 'display_data';\n",
              "          await google.colab.output.renderOutput(dataTable, element);\n",
              "          const docLink = document.createElement('div');\n",
              "          docLink.innerHTML = docLinkHtml;\n",
              "          element.appendChild(docLink);\n",
              "        }\n",
              "      </script>\n",
              "    </div>\n",
              "  </div>\n",
              "  "
            ]
          },
          "metadata": {},
          "execution_count": 45
        }
      ]
    },
    {
      "cell_type": "code",
      "source": [
        "data=pdr.get_data_yahoo(\"^MDAXI\",start_test_quarter, end_test_quarter, progress=False )['Adj Close'].pct_change()[1:] #.resample('M').ffill() \n",
        "quarter_index=data.cumsum()[-1]\n",
        "data1=pdr.get_data_yahoo(\"^MDAXI\",start_test_semester, end_test_semester, progress=False )['Adj Close'].pct_change()[1:] #.resample('M').ffill() \n",
        "semester_index=data1.cumsum()[-1]\n",
        "data2=pdr.get_data_yahoo(\"^MDAXI\",start_test, end_test, progress=False )['Adj Close'].pct_change()[1:] #.resample('M').ffill() \n",
        "annual_index=data2.cumsum()[-1]"
      ],
      "metadata": {
        "id": "m3yJQyQbm1uD"
      },
      "execution_count": 46,
      "outputs": []
    },
    {
      "cell_type": "code",
      "source": [
        "index_returns=[]\n",
        "index_returns.append(quarter_index)\n",
        "index_returns.append(semester_index)\n",
        "index_returns.append(annual_index)\n",
        "index_returns_array=np.array(index_returns)\n",
        "index_returns_array"
      ],
      "metadata": {
        "colab": {
          "base_uri": "https://localhost:8080/"
        },
        "id": "iu--EZXgjPgI",
        "outputId": "11c51f42-8372-4197-e29d-5f940054789f"
      },
      "execution_count": 47,
      "outputs": [
        {
          "output_type": "execute_result",
          "data": {
            "text/plain": [
              "array([0.04118355, 0.01266763, 0.03999222])"
            ]
          },
          "metadata": {},
          "execution_count": 47
        }
      ]
    },
    {
      "cell_type": "code",
      "source": [
        "alpha_quarter=(list_of_rets_quarter_arr/100 -quarter_index)*100\n",
        "alpha_semester=(list_of_rets_semester_arr/100 -semester_index)*100\n",
        "alpha_annual=(list_of_rets_annual_arr/100 -annual_index)*100"
      ],
      "metadata": {
        "id": "bTLN61rh-MIo"
      },
      "execution_count": 48,
      "outputs": []
    },
    {
      "cell_type": "code",
      "source": [
        "Metrics=[\"Expected Return\",\"Volatility\",\"Sharpe Ratio\",\"Actual Return\",\"Outperformance of Index\"]\n"
      ],
      "metadata": {
        "id": "LcFPs9O0nk3-"
      },
      "execution_count": 49,
      "outputs": []
    },
    {
      "cell_type": "code",
      "source": [
        "minvol_criteria_quarter=[]\n",
        "minvol_criteria_quarter.append(minvol_ret_nr)\n",
        "minvol_criteria_quarter.append(minvol_vol_nr)\n",
        "minvol_criteria_quarter.append(minvol_sharpe)\n",
        "minvol_criteria_quarter.append(list_of_rets_quarter_arr[0])\n",
        "minvol_criteria_quarter.append(alpha_quarter[0])    \n",
        "minvol_criteria_quarter_array=np.array(minvol_criteria_quarter)\n",
        "\n",
        "\n",
        "\n",
        "maxsharpe_criteria_quarter=[]\n",
        "maxsharpe_criteria_quarter.append(max_ret_sr)\n",
        "maxsharpe_criteria_quarter.append(max_vol_sr)\n",
        "maxsharpe_criteria_quarter.append(max_sharpe_sr)\n",
        "maxsharpe_criteria_quarter.append(list_of_rets_quarter_arr[1]) \n",
        "maxsharpe_criteria_quarter.append(alpha_quarter[1])    \n",
        "maxsharpe_criteria_quarter_array=np.array(maxsharpe_criteria_quarter,dtype=object)\n",
        "\n",
        "\n",
        "maxret_criteria_quarter=[]\n",
        "maxret_criteria_quarter.append(maxret_ret)\n",
        "maxret_criteria_quarter.append(maxret_vol)\n",
        "maxret_criteria_quarter.append(maxret_sharpe)\n",
        "maxret_criteria_quarter.append(list_of_rets_quarter_arr[2])\n",
        "maxret_criteria_quarter.append(alpha_quarter[2])    \n",
        "maxret_criteria_quarter_array=np.array(maxret_criteria_quarter)"
      ],
      "metadata": {
        "id": "BBZ0-pukqyv4"
      },
      "execution_count": 50,
      "outputs": []
    },
    {
      "cell_type": "code",
      "source": [
        "minvol_criteria_semester=[]\n",
        "minvol_criteria_semester.append(minvol_ret_nr)\n",
        "minvol_criteria_semester.append(minvol_vol_nr)\n",
        "minvol_criteria_semester.append(minvol_sharpe)\n",
        "minvol_criteria_semester.append(list_of_rets_semester_arr[0])\n",
        "minvol_criteria_semester.append(alpha_semester[0])    \n",
        "minvol_criteria_semester_array=np.array(minvol_criteria_semester,dtype=object)\n",
        "\n",
        "\n",
        "\n",
        "maxsharpe_criteria_semester=[]\n",
        "maxsharpe_criteria_semester.append(max_ret_sr)\n",
        "maxsharpe_criteria_semester.append(max_vol_sr)\n",
        "maxsharpe_criteria_semester.append(max_sharpe_sr)\n",
        "maxsharpe_criteria_semester.append(list_of_rets_semester_arr[1]) #,list_of_rets_semester_arr[1])\n",
        "maxsharpe_criteria_semester.append(alpha_semester[1])    \n",
        "maxsharpe_criteria_semester_array=np.array(maxsharpe_criteria_semester,dtype=object)\n",
        "\n",
        "\n",
        "maxret_criteria_semester=[]\n",
        "maxret_criteria_semester.append(maxret_ret)\n",
        "maxret_criteria_semester.append(maxret_vol)\n",
        "maxret_criteria_semester.append(maxret_sharpe)\n",
        "maxret_criteria_semester.append(list_of_rets_semester_arr[2])\n",
        "maxret_criteria_semester.append(alpha_semester[2])    \n",
        "maxret_criteria_semester_array=np.array(maxret_criteria_semester)"
      ],
      "metadata": {
        "id": "DBJKnlA1Dxhd"
      },
      "execution_count": 51,
      "outputs": []
    },
    {
      "cell_type": "code",
      "source": [
        "minvol_criteria_annual=[]\n",
        "minvol_criteria_annual.append(minvol_ret_nr)\n",
        "minvol_criteria_annual.append(minvol_vol_nr)\n",
        "minvol_criteria_annual.append(minvol_sharpe)\n",
        "minvol_criteria_annual.append(list_of_rets_annual_arr[0])\n",
        "minvol_criteria_annual.append(alpha_annual[0])    \n",
        "minvol_criteria_annual_array=np.array(minvol_criteria_annual,dtype=object)\n",
        "\n",
        "\n",
        "\n",
        "maxsharpe_criteria_annual=[]\n",
        "maxsharpe_criteria_annual.append(max_ret_sr)\n",
        "maxsharpe_criteria_annual.append(max_vol_sr)\n",
        "maxsharpe_criteria_annual.append(max_sharpe_sr)\n",
        "maxsharpe_criteria_annual.append(list_of_rets_annual_arr[1]) #,list_of_rets_annual_arr[1])\n",
        "maxsharpe_criteria_annual.append(alpha_annual[1])    \n",
        "maxsharpe_criteria_annual_array=np.array(maxsharpe_criteria_annual,dtype=object)\n",
        "\n",
        "\n",
        "maxret_criteria_annual=[]\n",
        "maxret_criteria_annual.append(maxret_ret)\n",
        "maxret_criteria_annual.append(maxret_vol)\n",
        "maxret_criteria_annual.append(maxret_sharpe)\n",
        "maxret_criteria_annual.append(list_of_rets_annual_arr[2])\n",
        "maxret_criteria_annual.append(alpha_annual[2])    \n",
        "maxret_criteria_annual_array=np.array(maxret_criteria_annual)"
      ],
      "metadata": {
        "id": "RLTNkWhUDyFO"
      },
      "execution_count": 52,
      "outputs": []
    },
    {
      "cell_type": "code",
      "source": [
        "metro_boomin=np.column_stack((minvol_criteria_quarter_array,maxsharpe_criteria_quarter_array,maxret_criteria_quarter_array))\n",
        "metrics_df_quarter=pd.DataFrame(metro_boomin,index=Metrics,columns=[\"minvol\",\"maxsharpe\",\"maxret\"])\n",
        "\n",
        "wants=np.column_stack((minvol_criteria_semester_array,maxsharpe_criteria_semester_array,maxret_criteria_semester_array))\n",
        "metrics_df_semester=pd.DataFrame(wants,index=Metrics,columns=[\"minvol\",\"maxsharpe\",\"maxret\"])\n",
        "\n",
        "some_more=np.column_stack((minvol_criteria_annual_array,maxsharpe_criteria_annual_array,maxret_criteria_annual_array))\n",
        "metrics_df_annual=pd.DataFrame(some_more,index=Metrics,columns=[\"minvol\",\"maxsharpe\",\"maxret\"])\n"
      ],
      "metadata": {
        "id": "dS2TFBWqtRwZ"
      },
      "execution_count": 53,
      "outputs": []
    },
    {
      "cell_type": "code",
      "source": [
        "metrics_df_quarter"
      ],
      "metadata": {
        "colab": {
          "base_uri": "https://localhost:8080/",
          "height": 206
        },
        "id": "2lZVWrNSt2_z",
        "outputId": "9ca58467-b83a-4c2d-e934-ec8c39beed88"
      },
      "execution_count": 54,
      "outputs": [
        {
          "output_type": "execute_result",
          "data": {
            "text/plain": [
              "                            minvol maxsharpe    maxret\n",
              "Expected Return            0.00136  0.273334  0.420292\n",
              "Volatility                0.067906  0.286666  0.479832\n",
              "Sharpe Ratio               0.02002  0.953494  0.875916\n",
              "Actual Return            11.277509 -1.921561  2.601375\n",
              "Outperformance of Index   7.159155 -6.039916  -1.51698"
            ],
            "text/html": [
              "\n",
              "  <div id=\"df-2fadf41a-8984-4f6b-bdf5-30026f5971df\">\n",
              "    <div class=\"colab-df-container\">\n",
              "      <div>\n",
              "<style scoped>\n",
              "    .dataframe tbody tr th:only-of-type {\n",
              "        vertical-align: middle;\n",
              "    }\n",
              "\n",
              "    .dataframe tbody tr th {\n",
              "        vertical-align: top;\n",
              "    }\n",
              "\n",
              "    .dataframe thead th {\n",
              "        text-align: right;\n",
              "    }\n",
              "</style>\n",
              "<table border=\"1\" class=\"dataframe\">\n",
              "  <thead>\n",
              "    <tr style=\"text-align: right;\">\n",
              "      <th></th>\n",
              "      <th>minvol</th>\n",
              "      <th>maxsharpe</th>\n",
              "      <th>maxret</th>\n",
              "    </tr>\n",
              "  </thead>\n",
              "  <tbody>\n",
              "    <tr>\n",
              "      <th>Expected Return</th>\n",
              "      <td>0.00136</td>\n",
              "      <td>0.273334</td>\n",
              "      <td>0.420292</td>\n",
              "    </tr>\n",
              "    <tr>\n",
              "      <th>Volatility</th>\n",
              "      <td>0.067906</td>\n",
              "      <td>0.286666</td>\n",
              "      <td>0.479832</td>\n",
              "    </tr>\n",
              "    <tr>\n",
              "      <th>Sharpe Ratio</th>\n",
              "      <td>0.02002</td>\n",
              "      <td>0.953494</td>\n",
              "      <td>0.875916</td>\n",
              "    </tr>\n",
              "    <tr>\n",
              "      <th>Actual Return</th>\n",
              "      <td>11.277509</td>\n",
              "      <td>-1.921561</td>\n",
              "      <td>2.601375</td>\n",
              "    </tr>\n",
              "    <tr>\n",
              "      <th>Outperformance of Index</th>\n",
              "      <td>7.159155</td>\n",
              "      <td>-6.039916</td>\n",
              "      <td>-1.51698</td>\n",
              "    </tr>\n",
              "  </tbody>\n",
              "</table>\n",
              "</div>\n",
              "      <button class=\"colab-df-convert\" onclick=\"convertToInteractive('df-2fadf41a-8984-4f6b-bdf5-30026f5971df')\"\n",
              "              title=\"Convert this dataframe to an interactive table.\"\n",
              "              style=\"display:none;\">\n",
              "        \n",
              "  <svg xmlns=\"http://www.w3.org/2000/svg\" height=\"24px\"viewBox=\"0 0 24 24\"\n",
              "       width=\"24px\">\n",
              "    <path d=\"M0 0h24v24H0V0z\" fill=\"none\"/>\n",
              "    <path d=\"M18.56 5.44l.94 2.06.94-2.06 2.06-.94-2.06-.94-.94-2.06-.94 2.06-2.06.94zm-11 1L8.5 8.5l.94-2.06 2.06-.94-2.06-.94L8.5 2.5l-.94 2.06-2.06.94zm10 10l.94 2.06.94-2.06 2.06-.94-2.06-.94-.94-2.06-.94 2.06-2.06.94z\"/><path d=\"M17.41 7.96l-1.37-1.37c-.4-.4-.92-.59-1.43-.59-.52 0-1.04.2-1.43.59L10.3 9.45l-7.72 7.72c-.78.78-.78 2.05 0 2.83L4 21.41c.39.39.9.59 1.41.59.51 0 1.02-.2 1.41-.59l7.78-7.78 2.81-2.81c.8-.78.8-2.07 0-2.86zM5.41 20L4 18.59l7.72-7.72 1.47 1.35L5.41 20z\"/>\n",
              "  </svg>\n",
              "      </button>\n",
              "      \n",
              "  <style>\n",
              "    .colab-df-container {\n",
              "      display:flex;\n",
              "      flex-wrap:wrap;\n",
              "      gap: 12px;\n",
              "    }\n",
              "\n",
              "    .colab-df-convert {\n",
              "      background-color: #E8F0FE;\n",
              "      border: none;\n",
              "      border-radius: 50%;\n",
              "      cursor: pointer;\n",
              "      display: none;\n",
              "      fill: #1967D2;\n",
              "      height: 32px;\n",
              "      padding: 0 0 0 0;\n",
              "      width: 32px;\n",
              "    }\n",
              "\n",
              "    .colab-df-convert:hover {\n",
              "      background-color: #E2EBFA;\n",
              "      box-shadow: 0px 1px 2px rgba(60, 64, 67, 0.3), 0px 1px 3px 1px rgba(60, 64, 67, 0.15);\n",
              "      fill: #174EA6;\n",
              "    }\n",
              "\n",
              "    [theme=dark] .colab-df-convert {\n",
              "      background-color: #3B4455;\n",
              "      fill: #D2E3FC;\n",
              "    }\n",
              "\n",
              "    [theme=dark] .colab-df-convert:hover {\n",
              "      background-color: #434B5C;\n",
              "      box-shadow: 0px 1px 3px 1px rgba(0, 0, 0, 0.15);\n",
              "      filter: drop-shadow(0px 1px 2px rgba(0, 0, 0, 0.3));\n",
              "      fill: #FFFFFF;\n",
              "    }\n",
              "  </style>\n",
              "\n",
              "      <script>\n",
              "        const buttonEl =\n",
              "          document.querySelector('#df-2fadf41a-8984-4f6b-bdf5-30026f5971df button.colab-df-convert');\n",
              "        buttonEl.style.display =\n",
              "          google.colab.kernel.accessAllowed ? 'block' : 'none';\n",
              "\n",
              "        async function convertToInteractive(key) {\n",
              "          const element = document.querySelector('#df-2fadf41a-8984-4f6b-bdf5-30026f5971df');\n",
              "          const dataTable =\n",
              "            await google.colab.kernel.invokeFunction('convertToInteractive',\n",
              "                                                     [key], {});\n",
              "          if (!dataTable) return;\n",
              "\n",
              "          const docLinkHtml = 'Like what you see? Visit the ' +\n",
              "            '<a target=\"_blank\" href=https://colab.research.google.com/notebooks/data_table.ipynb>data table notebook</a>'\n",
              "            + ' to learn more about interactive tables.';\n",
              "          element.innerHTML = '';\n",
              "          dataTable['output_type'] = 'display_data';\n",
              "          await google.colab.output.renderOutput(dataTable, element);\n",
              "          const docLink = document.createElement('div');\n",
              "          docLink.innerHTML = docLinkHtml;\n",
              "          element.appendChild(docLink);\n",
              "        }\n",
              "      </script>\n",
              "    </div>\n",
              "  </div>\n",
              "  "
            ]
          },
          "metadata": {},
          "execution_count": 54
        }
      ]
    },
    {
      "cell_type": "code",
      "source": [
        "metrics_df_semester"
      ],
      "metadata": {
        "colab": {
          "base_uri": "https://localhost:8080/",
          "height": 206
        },
        "id": "IguEPS8tFwO7",
        "outputId": "8accd38c-afc6-4b3d-fcdc-61c4e7611ddf"
      },
      "execution_count": 55,
      "outputs": [
        {
          "output_type": "execute_result",
          "data": {
            "text/plain": [
              "                           minvol maxsharpe    maxret\n",
              "Expected Return           0.00136  0.273334  0.420292\n",
              "Volatility               0.067906  0.286666  0.479832\n",
              "Sharpe Ratio              0.02002  0.953494  0.875916\n",
              "Actual Return            0.947564 -1.481512  2.736023\n",
              "Outperformance of Index -0.319198 -2.748274   1.46926"
            ],
            "text/html": [
              "\n",
              "  <div id=\"df-4540e2c1-ad83-4bb9-9ded-7da76f742af9\">\n",
              "    <div class=\"colab-df-container\">\n",
              "      <div>\n",
              "<style scoped>\n",
              "    .dataframe tbody tr th:only-of-type {\n",
              "        vertical-align: middle;\n",
              "    }\n",
              "\n",
              "    .dataframe tbody tr th {\n",
              "        vertical-align: top;\n",
              "    }\n",
              "\n",
              "    .dataframe thead th {\n",
              "        text-align: right;\n",
              "    }\n",
              "</style>\n",
              "<table border=\"1\" class=\"dataframe\">\n",
              "  <thead>\n",
              "    <tr style=\"text-align: right;\">\n",
              "      <th></th>\n",
              "      <th>minvol</th>\n",
              "      <th>maxsharpe</th>\n",
              "      <th>maxret</th>\n",
              "    </tr>\n",
              "  </thead>\n",
              "  <tbody>\n",
              "    <tr>\n",
              "      <th>Expected Return</th>\n",
              "      <td>0.00136</td>\n",
              "      <td>0.273334</td>\n",
              "      <td>0.420292</td>\n",
              "    </tr>\n",
              "    <tr>\n",
              "      <th>Volatility</th>\n",
              "      <td>0.067906</td>\n",
              "      <td>0.286666</td>\n",
              "      <td>0.479832</td>\n",
              "    </tr>\n",
              "    <tr>\n",
              "      <th>Sharpe Ratio</th>\n",
              "      <td>0.02002</td>\n",
              "      <td>0.953494</td>\n",
              "      <td>0.875916</td>\n",
              "    </tr>\n",
              "    <tr>\n",
              "      <th>Actual Return</th>\n",
              "      <td>0.947564</td>\n",
              "      <td>-1.481512</td>\n",
              "      <td>2.736023</td>\n",
              "    </tr>\n",
              "    <tr>\n",
              "      <th>Outperformance of Index</th>\n",
              "      <td>-0.319198</td>\n",
              "      <td>-2.748274</td>\n",
              "      <td>1.46926</td>\n",
              "    </tr>\n",
              "  </tbody>\n",
              "</table>\n",
              "</div>\n",
              "      <button class=\"colab-df-convert\" onclick=\"convertToInteractive('df-4540e2c1-ad83-4bb9-9ded-7da76f742af9')\"\n",
              "              title=\"Convert this dataframe to an interactive table.\"\n",
              "              style=\"display:none;\">\n",
              "        \n",
              "  <svg xmlns=\"http://www.w3.org/2000/svg\" height=\"24px\"viewBox=\"0 0 24 24\"\n",
              "       width=\"24px\">\n",
              "    <path d=\"M0 0h24v24H0V0z\" fill=\"none\"/>\n",
              "    <path d=\"M18.56 5.44l.94 2.06.94-2.06 2.06-.94-2.06-.94-.94-2.06-.94 2.06-2.06.94zm-11 1L8.5 8.5l.94-2.06 2.06-.94-2.06-.94L8.5 2.5l-.94 2.06-2.06.94zm10 10l.94 2.06.94-2.06 2.06-.94-2.06-.94-.94-2.06-.94 2.06-2.06.94z\"/><path d=\"M17.41 7.96l-1.37-1.37c-.4-.4-.92-.59-1.43-.59-.52 0-1.04.2-1.43.59L10.3 9.45l-7.72 7.72c-.78.78-.78 2.05 0 2.83L4 21.41c.39.39.9.59 1.41.59.51 0 1.02-.2 1.41-.59l7.78-7.78 2.81-2.81c.8-.78.8-2.07 0-2.86zM5.41 20L4 18.59l7.72-7.72 1.47 1.35L5.41 20z\"/>\n",
              "  </svg>\n",
              "      </button>\n",
              "      \n",
              "  <style>\n",
              "    .colab-df-container {\n",
              "      display:flex;\n",
              "      flex-wrap:wrap;\n",
              "      gap: 12px;\n",
              "    }\n",
              "\n",
              "    .colab-df-convert {\n",
              "      background-color: #E8F0FE;\n",
              "      border: none;\n",
              "      border-radius: 50%;\n",
              "      cursor: pointer;\n",
              "      display: none;\n",
              "      fill: #1967D2;\n",
              "      height: 32px;\n",
              "      padding: 0 0 0 0;\n",
              "      width: 32px;\n",
              "    }\n",
              "\n",
              "    .colab-df-convert:hover {\n",
              "      background-color: #E2EBFA;\n",
              "      box-shadow: 0px 1px 2px rgba(60, 64, 67, 0.3), 0px 1px 3px 1px rgba(60, 64, 67, 0.15);\n",
              "      fill: #174EA6;\n",
              "    }\n",
              "\n",
              "    [theme=dark] .colab-df-convert {\n",
              "      background-color: #3B4455;\n",
              "      fill: #D2E3FC;\n",
              "    }\n",
              "\n",
              "    [theme=dark] .colab-df-convert:hover {\n",
              "      background-color: #434B5C;\n",
              "      box-shadow: 0px 1px 3px 1px rgba(0, 0, 0, 0.15);\n",
              "      filter: drop-shadow(0px 1px 2px rgba(0, 0, 0, 0.3));\n",
              "      fill: #FFFFFF;\n",
              "    }\n",
              "  </style>\n",
              "\n",
              "      <script>\n",
              "        const buttonEl =\n",
              "          document.querySelector('#df-4540e2c1-ad83-4bb9-9ded-7da76f742af9 button.colab-df-convert');\n",
              "        buttonEl.style.display =\n",
              "          google.colab.kernel.accessAllowed ? 'block' : 'none';\n",
              "\n",
              "        async function convertToInteractive(key) {\n",
              "          const element = document.querySelector('#df-4540e2c1-ad83-4bb9-9ded-7da76f742af9');\n",
              "          const dataTable =\n",
              "            await google.colab.kernel.invokeFunction('convertToInteractive',\n",
              "                                                     [key], {});\n",
              "          if (!dataTable) return;\n",
              "\n",
              "          const docLinkHtml = 'Like what you see? Visit the ' +\n",
              "            '<a target=\"_blank\" href=https://colab.research.google.com/notebooks/data_table.ipynb>data table notebook</a>'\n",
              "            + ' to learn more about interactive tables.';\n",
              "          element.innerHTML = '';\n",
              "          dataTable['output_type'] = 'display_data';\n",
              "          await google.colab.output.renderOutput(dataTable, element);\n",
              "          const docLink = document.createElement('div');\n",
              "          docLink.innerHTML = docLinkHtml;\n",
              "          element.appendChild(docLink);\n",
              "        }\n",
              "      </script>\n",
              "    </div>\n",
              "  </div>\n",
              "  "
            ]
          },
          "metadata": {},
          "execution_count": 55
        }
      ]
    },
    {
      "cell_type": "code",
      "source": [
        "metrics_df_annual"
      ],
      "metadata": {
        "colab": {
          "base_uri": "https://localhost:8080/",
          "height": 206
        },
        "id": "mhvOdL4yIRz9",
        "outputId": "6b0910ae-25c3-493b-d40b-31fc553a45f5"
      },
      "execution_count": 56,
      "outputs": [
        {
          "output_type": "execute_result",
          "data": {
            "text/plain": [
              "                            minvol maxsharpe     maxret\n",
              "Expected Return            0.00136  0.273334   0.420292\n",
              "Volatility                0.067906  0.286666   0.479832\n",
              "Sharpe Ratio               0.02002  0.953494   0.875916\n",
              "Actual Return            -12.52985  9.802325  17.131212\n",
              "Outperformance of Index -16.529072  5.803103   13.13199"
            ],
            "text/html": [
              "\n",
              "  <div id=\"df-735049b2-b31e-4fee-a807-0a339925cb52\">\n",
              "    <div class=\"colab-df-container\">\n",
              "      <div>\n",
              "<style scoped>\n",
              "    .dataframe tbody tr th:only-of-type {\n",
              "        vertical-align: middle;\n",
              "    }\n",
              "\n",
              "    .dataframe tbody tr th {\n",
              "        vertical-align: top;\n",
              "    }\n",
              "\n",
              "    .dataframe thead th {\n",
              "        text-align: right;\n",
              "    }\n",
              "</style>\n",
              "<table border=\"1\" class=\"dataframe\">\n",
              "  <thead>\n",
              "    <tr style=\"text-align: right;\">\n",
              "      <th></th>\n",
              "      <th>minvol</th>\n",
              "      <th>maxsharpe</th>\n",
              "      <th>maxret</th>\n",
              "    </tr>\n",
              "  </thead>\n",
              "  <tbody>\n",
              "    <tr>\n",
              "      <th>Expected Return</th>\n",
              "      <td>0.00136</td>\n",
              "      <td>0.273334</td>\n",
              "      <td>0.420292</td>\n",
              "    </tr>\n",
              "    <tr>\n",
              "      <th>Volatility</th>\n",
              "      <td>0.067906</td>\n",
              "      <td>0.286666</td>\n",
              "      <td>0.479832</td>\n",
              "    </tr>\n",
              "    <tr>\n",
              "      <th>Sharpe Ratio</th>\n",
              "      <td>0.02002</td>\n",
              "      <td>0.953494</td>\n",
              "      <td>0.875916</td>\n",
              "    </tr>\n",
              "    <tr>\n",
              "      <th>Actual Return</th>\n",
              "      <td>-12.52985</td>\n",
              "      <td>9.802325</td>\n",
              "      <td>17.131212</td>\n",
              "    </tr>\n",
              "    <tr>\n",
              "      <th>Outperformance of Index</th>\n",
              "      <td>-16.529072</td>\n",
              "      <td>5.803103</td>\n",
              "      <td>13.13199</td>\n",
              "    </tr>\n",
              "  </tbody>\n",
              "</table>\n",
              "</div>\n",
              "      <button class=\"colab-df-convert\" onclick=\"convertToInteractive('df-735049b2-b31e-4fee-a807-0a339925cb52')\"\n",
              "              title=\"Convert this dataframe to an interactive table.\"\n",
              "              style=\"display:none;\">\n",
              "        \n",
              "  <svg xmlns=\"http://www.w3.org/2000/svg\" height=\"24px\"viewBox=\"0 0 24 24\"\n",
              "       width=\"24px\">\n",
              "    <path d=\"M0 0h24v24H0V0z\" fill=\"none\"/>\n",
              "    <path d=\"M18.56 5.44l.94 2.06.94-2.06 2.06-.94-2.06-.94-.94-2.06-.94 2.06-2.06.94zm-11 1L8.5 8.5l.94-2.06 2.06-.94-2.06-.94L8.5 2.5l-.94 2.06-2.06.94zm10 10l.94 2.06.94-2.06 2.06-.94-2.06-.94-.94-2.06-.94 2.06-2.06.94z\"/><path d=\"M17.41 7.96l-1.37-1.37c-.4-.4-.92-.59-1.43-.59-.52 0-1.04.2-1.43.59L10.3 9.45l-7.72 7.72c-.78.78-.78 2.05 0 2.83L4 21.41c.39.39.9.59 1.41.59.51 0 1.02-.2 1.41-.59l7.78-7.78 2.81-2.81c.8-.78.8-2.07 0-2.86zM5.41 20L4 18.59l7.72-7.72 1.47 1.35L5.41 20z\"/>\n",
              "  </svg>\n",
              "      </button>\n",
              "      \n",
              "  <style>\n",
              "    .colab-df-container {\n",
              "      display:flex;\n",
              "      flex-wrap:wrap;\n",
              "      gap: 12px;\n",
              "    }\n",
              "\n",
              "    .colab-df-convert {\n",
              "      background-color: #E8F0FE;\n",
              "      border: none;\n",
              "      border-radius: 50%;\n",
              "      cursor: pointer;\n",
              "      display: none;\n",
              "      fill: #1967D2;\n",
              "      height: 32px;\n",
              "      padding: 0 0 0 0;\n",
              "      width: 32px;\n",
              "    }\n",
              "\n",
              "    .colab-df-convert:hover {\n",
              "      background-color: #E2EBFA;\n",
              "      box-shadow: 0px 1px 2px rgba(60, 64, 67, 0.3), 0px 1px 3px 1px rgba(60, 64, 67, 0.15);\n",
              "      fill: #174EA6;\n",
              "    }\n",
              "\n",
              "    [theme=dark] .colab-df-convert {\n",
              "      background-color: #3B4455;\n",
              "      fill: #D2E3FC;\n",
              "    }\n",
              "\n",
              "    [theme=dark] .colab-df-convert:hover {\n",
              "      background-color: #434B5C;\n",
              "      box-shadow: 0px 1px 3px 1px rgba(0, 0, 0, 0.15);\n",
              "      filter: drop-shadow(0px 1px 2px rgba(0, 0, 0, 0.3));\n",
              "      fill: #FFFFFF;\n",
              "    }\n",
              "  </style>\n",
              "\n",
              "      <script>\n",
              "        const buttonEl =\n",
              "          document.querySelector('#df-735049b2-b31e-4fee-a807-0a339925cb52 button.colab-df-convert');\n",
              "        buttonEl.style.display =\n",
              "          google.colab.kernel.accessAllowed ? 'block' : 'none';\n",
              "\n",
              "        async function convertToInteractive(key) {\n",
              "          const element = document.querySelector('#df-735049b2-b31e-4fee-a807-0a339925cb52');\n",
              "          const dataTable =\n",
              "            await google.colab.kernel.invokeFunction('convertToInteractive',\n",
              "                                                     [key], {});\n",
              "          if (!dataTable) return;\n",
              "\n",
              "          const docLinkHtml = 'Like what you see? Visit the ' +\n",
              "            '<a target=\"_blank\" href=https://colab.research.google.com/notebooks/data_table.ipynb>data table notebook</a>'\n",
              "            + ' to learn more about interactive tables.';\n",
              "          element.innerHTML = '';\n",
              "          dataTable['output_type'] = 'display_data';\n",
              "          await google.colab.output.renderOutput(dataTable, element);\n",
              "          const docLink = document.createElement('div');\n",
              "          docLink.innerHTML = docLinkHtml;\n",
              "          element.appendChild(docLink);\n",
              "        }\n",
              "      </script>\n",
              "    </div>\n",
              "  </div>\n",
              "  "
            ]
          },
          "metadata": {},
          "execution_count": 56
        }
      ]
    },
    {
      "cell_type": "code",
      "source": [
        "maxsharpe_ret=post_sectors_df*pw_maxsharpe_norm\n",
        "maxsharpe_ret.loc[:, (maxsharpe_ret != 0).any(axis=0)].cumsum().plot()"
      ],
      "metadata": {
        "id": "zAHwQaehkXrD",
        "outputId": "9108743c-cb7b-4439-99bd-433d0c15e443",
        "colab": {
          "base_uri": "https://localhost:8080/",
          "height": 283
        }
      },
      "execution_count": 81,
      "outputs": [
        {
          "output_type": "execute_result",
          "data": {
            "text/plain": [
              "<AxesSubplot:>"
            ]
          },
          "metadata": {},
          "execution_count": 81
        },
        {
          "output_type": "display_data",
          "data": {
            "text/plain": [
              "<Figure size 432x288 with 1 Axes>"
            ],
            "image/png": "[encoded data removed]"
          },
          "metadata": {
            "needs_background": "light"
          }
        }
      ]
    },
    {
      "cell_type": "code",
      "source": [
        "maxret_ret=post_sectors_df*pw_maxret_norm\n",
        "minvol_ret=post_sectors_df*pw_minvol_norm\n",
        "henro=[]\n",
        "henry=[]\n",
        "henrie=[]\n",
        "for x in range(len(maxsharpe_ret)):\n",
        "  henro.append(maxsharpe_ret.cumsum(axis=0).loc[x].sum())\n",
        "henro_df=pd.DataFrame(henro)\n",
        "for x in range(len(maxret_ret)):\n",
        "  henry.append(maxret_ret.cumsum(axis=0).loc[x].sum())\n",
        "henry_df=pd.DataFrame(henry)\n",
        "for x in range(len(minvol_ret)):\n",
        "  henrie.append(minvol_ret.cumsum(axis=0).loc[x].sum())\n",
        "henrie_df=pd.DataFrame(henrie)"
      ],
      "metadata": {
        "id": "-G1AMOuNvyt-"
      },
      "execution_count": 83,
      "outputs": []
    },
    {
      "cell_type": "code",
      "source": [
        "minvol_ret.loc[:, (minvol_ret != 0).any(axis=0)].cumsum().plot()"
      ],
      "metadata": {
        "id": "eisTmvPYYN8O",
        "outputId": "1cce0bf3-11ed-41e8-d4a8-a2f128b16d86",
        "colab": {
          "base_uri": "https://localhost:8080/",
          "height": 283
        }
      },
      "execution_count": 84,
      "outputs": [
        {
          "output_type": "execute_result",
          "data": {
            "text/plain": [
              "<AxesSubplot:>"
            ]
          },
          "metadata": {},
          "execution_count": 84
        },
        {
          "output_type": "display_data",
          "data": {
            "text/plain": [
              "<Figure size 432x288 with 1 Axes>"
            ],
            "image/png": "[encoded data removed]"
          },
          "metadata": {
            "needs_background": "light"
          }
        }
      ]
    },
    {
      "cell_type": "code",
      "source": [
        "maxret_ret.loc[:, (maxret_ret != 0).any(axis=0)].cumsum().plot()"
      ],
      "metadata": {
        "id": "g3TZrKMXZO1C",
        "outputId": "7e00468b-960e-4ba6-98ce-23c7491ba16e",
        "colab": {
          "base_uri": "https://localhost:8080/",
          "height": 283
        }
      },
      "execution_count": 85,
      "outputs": [
        {
          "output_type": "execute_result",
          "data": {
            "text/plain": [
              "<AxesSubplot:>"
            ]
          },
          "metadata": {},
          "execution_count": 85
        },
        {
          "output_type": "display_data",
          "data": {
            "text/plain": [
              "<Figure size 432x288 with 1 Axes>"
            ],
            "image/png": "[encoded data removed]"
          },
          "metadata": {
            "needs_background": "light"
          }
        }
      ]
    },
    {
      "cell_type": "code",
      "source": [
        "fig=plt.figure()\n",
        "plt.axvline(x=64,linestyle=(0, (5,10)),color='orange')\n",
        "plt.axvline(x=125,linestyle=(0, (5,10)),color='red')\n",
        "plt.plot(henrie_df)"
      ],
      "metadata": {
        "colab": {
          "base_uri": "https://localhost:8080/",
          "height": 283
        },
        "id": "9m6tMzzvvKbM",
        "outputId": "4bb5790f-ae23-4e66-cfc1-e3dc4c9a6503"
      },
      "execution_count": 59,
      "outputs": [
        {
          "output_type": "execute_result",
          "data": {
            "text/plain": [
              "[<matplotlib.lines.Line2D at 0x7f32145a7820>]"
            ]
          },
          "metadata": {},
          "execution_count": 59
        },
        {
          "output_type": "display_data",
          "data": {
            "text/plain": [
              "<Figure size 432x288 with 1 Axes>"
            ],
            "image/png": "[encoded data removed]"
          },
          "metadata": {
            "needs_background": "light"
          }
        }
      ]
    },
    {
      "cell_type": "code",
      "source": [
        "fig=plt.figure()\n",
        "plt.axvline(x=64,linestyle=(0, (5,10)),color='orange')\n",
        "plt.axvline(x=125,linestyle=(0, (5,10)),color='red')\n",
        "plt.plot(henro_df)"
      ],
      "metadata": {
        "colab": {
          "base_uri": "https://localhost:8080/",
          "height": 285
        },
        "id": "FzHnKItXrbzN",
        "outputId": "4d9fc29a-1db3-46b6-f60e-c069b77f923a"
      },
      "execution_count": 60,
      "outputs": [
        {
          "output_type": "execute_result",
          "data": {
            "text/plain": [
              "[<matplotlib.lines.Line2D at 0x7f32145225b0>]"
            ]
          },
          "metadata": {},
          "execution_count": 60
        },
        {
          "output_type": "display_data",
          "data": {
            "text/plain": [
              "<Figure size 432x288 with 1 Axes>"
            ],
            "image/png": "[encoded data removed]"
          },
          "metadata": {
            "needs_background": "light"
          }
        }
      ]
    },
    {
      "cell_type": "code",
      "source": [
        "fig=plt.figure()\n",
        "plt.axvline(x=64,linestyle=(0, (5,10)),color='orange')\n",
        "plt.axvline(x=125,linestyle=(0, (5,10)),color='red')\n",
        "plt.plot(henry_df)"
      ],
      "metadata": {
        "colab": {
          "base_uri": "https://localhost:8080/",
          "height": 283
        },
        "id": "mNAuX4BguMmc",
        "outputId": "fbed193c-0548-4fab-8add-a7c03921b14e"
      },
      "execution_count": 61,
      "outputs": [
        {
          "output_type": "execute_result",
          "data": {
            "text/plain": [
              "[<matplotlib.lines.Line2D at 0x7f3214498040>]"
            ]
          },
          "metadata": {},
          "execution_count": 61
        },
        {
          "output_type": "display_data",
          "data": {
            "text/plain": [
              "<Figure size 432x288 with 1 Axes>"
            ],
            "image/png": "[encoded data removed]"
          },
          "metadata": {
            "needs_background": "light"
          }
        }
      ]
    },
    {
      "cell_type": "code",
      "source": [
        "henry_df[230:]"
      ],
      "metadata": {
        "id": "EFCDJ6CdsASm",
        "outputId": "02736740-e071-4a40-c53a-adcd3a527b37",
        "colab": {
          "base_uri": "https://localhost:8080/",
          "height": 49
        }
      },
      "execution_count": 62,
      "outputs": [
        {
          "output_type": "execute_result",
          "data": {
            "text/plain": [
              "Empty DataFrame\n",
              "Columns: [0]\n",
              "Index: []"
            ],
            "text/html": [
              "\n",
              "  <div id=\"df-e87e3208-d07a-4a17-b229-e2e0988aecc4\">\n",
              "    <div class=\"colab-df-container\">\n",
              "      <div>\n",
              "<style scoped>\n",
              "    .dataframe tbody tr th:only-of-type {\n",
              "        vertical-align: middle;\n",
              "    }\n",
              "\n",
              "    .dataframe tbody tr th {\n",
              "        vertical-align: top;\n",
              "    }\n",
              "\n",
              "    .dataframe thead th {\n",
              "        text-align: right;\n",
              "    }\n",
              "</style>\n",
              "<table border=\"1\" class=\"dataframe\">\n",
              "  <thead>\n",
              "    <tr style=\"text-align: right;\">\n",
              "      <th></th>\n",
              "      <th>0</th>\n",
              "    </tr>\n",
              "  </thead>\n",
              "  <tbody>\n",
              "  </tbody>\n",
              "</table>\n",
              "</div>\n",
              "      <button class=\"colab-df-convert\" onclick=\"convertToInteractive('df-e87e3208-d07a-4a17-b229-e2e0988aecc4')\"\n",
              "              title=\"Convert this dataframe to an interactive table.\"\n",
              "              style=\"display:none;\">\n",
              "        \n",
              "  <svg xmlns=\"http://www.w3.org/2000/svg\" height=\"24px\"viewBox=\"0 0 24 24\"\n",
              "       width=\"24px\">\n",
              "    <path d=\"M0 0h24v24H0V0z\" fill=\"none\"/>\n",
              "    <path d=\"M18.56 5.44l.94 2.06.94-2.06 2.06-.94-2.06-.94-.94-2.06-.94 2.06-2.06.94zm-11 1L8.5 8.5l.94-2.06 2.06-.94-2.06-.94L8.5 2.5l-.94 2.06-2.06.94zm10 10l.94 2.06.94-2.06 2.06-.94-2.06-.94-.94-2.06-.94 2.06-2.06.94z\"/><path d=\"M17.41 7.96l-1.37-1.37c-.4-.4-.92-.59-1.43-.59-.52 0-1.04.2-1.43.59L10.3 9.45l-7.72 7.72c-.78.78-.78 2.05 0 2.83L4 21.41c.39.39.9.59 1.41.59.51 0 1.02-.2 1.41-.59l7.78-7.78 2.81-2.81c.8-.78.8-2.07 0-2.86zM5.41 20L4 18.59l7.72-7.72 1.47 1.35L5.41 20z\"/>\n",
              "  </svg>\n",
              "      </button>\n",
              "      \n",
              "  <style>\n",
              "    .colab-df-container {\n",
              "      display:flex;\n",
              "      flex-wrap:wrap;\n",
              "      gap: 12px;\n",
              "    }\n",
              "\n",
              "    .colab-df-convert {\n",
              "      background-color: #E8F0FE;\n",
              "      border: none;\n",
              "      border-radius: 50%;\n",
              "      cursor: pointer;\n",
              "      display: none;\n",
              "      fill: #1967D2;\n",
              "      height: 32px;\n",
              "      padding: 0 0 0 0;\n",
              "      width: 32px;\n",
              "    }\n",
              "\n",
              "    .colab-df-convert:hover {\n",
              "      background-color: #E2EBFA;\n",
              "      box-shadow: 0px 1px 2px rgba(60, 64, 67, 0.3), 0px 1px 3px 1px rgba(60, 64, 67, 0.15);\n",
              "      fill: #174EA6;\n",
              "    }\n",
              "\n",
              "    [theme=dark] .colab-df-convert {\n",
              "      background-color: #3B4455;\n",
              "      fill: #D2E3FC;\n",
              "    }\n",
              "\n",
              "    [theme=dark] .colab-df-convert:hover {\n",
              "      background-color: #434B5C;\n",
              "      box-shadow: 0px 1px 3px 1px rgba(0, 0, 0, 0.15);\n",
              "      filter: drop-shadow(0px 1px 2px rgba(0, 0, 0, 0.3));\n",
              "      fill: #FFFFFF;\n",
              "    }\n",
              "  </style>\n",
              "\n",
              "      <script>\n",
              "        const buttonEl =\n",
              "          document.querySelector('#df-e87e3208-d07a-4a17-b229-e2e0988aecc4 button.colab-df-convert');\n",
              "        buttonEl.style.display =\n",
              "          google.colab.kernel.accessAllowed ? 'block' : 'none';\n",
              "\n",
              "        async function convertToInteractive(key) {\n",
              "          const element = document.querySelector('#df-e87e3208-d07a-4a17-b229-e2e0988aecc4');\n",
              "          const dataTable =\n",
              "            await google.colab.kernel.invokeFunction('convertToInteractive',\n",
              "                                                     [key], {});\n",
              "          if (!dataTable) return;\n",
              "\n",
              "          const docLinkHtml = 'Like what you see? Visit the ' +\n",
              "            '<a target=\"_blank\" href=https://colab.research.google.com/notebooks/data_table.ipynb>data table notebook</a>'\n",
              "            + ' to learn more about interactive tables.';\n",
              "          element.innerHTML = '';\n",
              "          dataTable['output_type'] = 'display_data';\n",
              "          await google.colab.output.renderOutput(dataTable, element);\n",
              "          const docLink = document.createElement('div');\n",
              "          docLink.innerHTML = docLinkHtml;\n",
              "          element.appendChild(docLink);\n",
              "        }\n",
              "      </script>\n",
              "    </div>\n",
              "  </div>\n",
              "  "
            ]
          },
          "metadata": {},
          "execution_count": 62
        }
      ]
    },
    {
      "cell_type": "code",
      "source": [
        "data2.cumsum().plot()"
      ],
      "metadata": {
        "id": "HU0uDak-sCug",
        "outputId": "d8d0aa0c-a447-4dfc-a9f1-f1fb3098b233",
        "colab": {
          "base_uri": "https://localhost:8080/",
          "height": 295
        }
      },
      "execution_count": 63,
      "outputs": [
        {
          "output_type": "execute_result",
          "data": {
            "text/plain": [
              "<AxesSubplot:xlabel='Date'>"
            ]
          },
          "metadata": {},
          "execution_count": 63
        },
        {
          "output_type": "display_data",
          "data": {
            "text/plain": [
              "<Figure size 432x288 with 1 Axes>"
            ],
            "image/png": "[encoded data removed]"
          },
          "metadata": {
            "needs_background": "light"
          }
        }
      ]
    }
  ]
}